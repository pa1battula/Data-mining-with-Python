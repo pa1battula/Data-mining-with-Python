{
 "cells": [
  {
   "cell_type": "markdown",
   "id": "be02a957-7133-4d02-818e-fedeb3cecb05",
   "metadata": {},
   "source": [
    "# Project 09 -- [Pavan Kumar] [Battula]"
   ]
  },
  {
   "cell_type": "markdown",
   "id": "a1228853-dd19-4ab2-89e0-0394d7d72de3",
   "metadata": {},
   "source": [
    "**TA Help:** N/A\n",
    "\n",
    "- Help with figuring out how to write a function.\n",
    "    \n",
    "**Collaboration:** N/A\n",
    "    \n",
    "- Helped figuring out how to load the dataset.\n",
    "- Helped debug error with my plot."
   ]
  },
  {
   "cell_type": "markdown",
   "id": "6180e742-8e39-4698-98ff-5b00c8cf8ea0",
   "metadata": {},
   "source": [
    "## Question 1"
   ]
  },
  {
   "cell_type": "code",
   "execution_count": 3,
   "id": "49445606-d363-41b4-b479-e319a9a84c01",
   "metadata": {},
   "outputs": [],
   "source": [
    "import pandas as pd"
   ]
  },
  {
   "cell_type": "code",
   "execution_count": 2,
   "id": "a26c4d93-e0f2-4a70-b925-4ae9340088b8",
   "metadata": {},
   "outputs": [],
   "source": [
    "myDF = pd.read_csv(\"/anvil/projects/tdm/data/whin/weather.csv\")\n",
    "pd.set_option('display.max_columns', None)"
   ]
  },
  {
   "cell_type": "code",
   "execution_count": 3,
   "id": "67bb531f-a4c4-432a-bc74-2b8272a32e5b",
   "metadata": {},
   "outputs": [
    {
     "data": {
      "text/html": [
       "<div>\n",
       "<style scoped>\n",
       "    .dataframe tbody tr th:only-of-type {\n",
       "        vertical-align: middle;\n",
       "    }\n",
       "\n",
       "    .dataframe tbody tr th {\n",
       "        vertical-align: top;\n",
       "    }\n",
       "\n",
       "    .dataframe thead th {\n",
       "        text-align: right;\n",
       "    }\n",
       "</style>\n",
       "<table border=\"1\" class=\"dataframe\">\n",
       "  <thead>\n",
       "    <tr style=\"text-align: right;\">\n",
       "      <th></th>\n",
       "      <th>station_id</th>\n",
       "      <th>latitude</th>\n",
       "      <th>longitude</th>\n",
       "      <th>name</th>\n",
       "      <th>observation_time</th>\n",
       "      <th>temperature</th>\n",
       "      <th>temperature_high</th>\n",
       "      <th>temperature_low</th>\n",
       "      <th>humidity</th>\n",
       "      <th>solar_radiation</th>\n",
       "      <th>solar_radiation_high</th>\n",
       "      <th>rain</th>\n",
       "      <th>rain_inches_last_hour</th>\n",
       "      <th>wind_speed_mph</th>\n",
       "      <th>wind_direction_degrees</th>\n",
       "      <th>wind_gust_speed_mph</th>\n",
       "      <th>wind_gust_direction_degrees</th>\n",
       "      <th>pressure</th>\n",
       "      <th>soil_temp_1</th>\n",
       "      <th>soil_temp_2</th>\n",
       "      <th>soil_temp_3</th>\n",
       "      <th>soil_temp_4</th>\n",
       "      <th>soil_moist_1</th>\n",
       "      <th>soil_moist_2</th>\n",
       "      <th>soil_moist_3</th>\n",
       "      <th>soil_moist_4</th>\n",
       "    </tr>\n",
       "  </thead>\n",
       "  <tbody>\n",
       "    <tr>\n",
       "      <th>0</th>\n",
       "      <td>1</td>\n",
       "      <td>40.93894</td>\n",
       "      <td>-86.47418</td>\n",
       "      <td>WHIN001-PULA001</td>\n",
       "      <td>2019-07-10T04:00:00Z</td>\n",
       "      <td>70.0</td>\n",
       "      <td>71.0</td>\n",
       "      <td>70.0</td>\n",
       "      <td>83.0</td>\n",
       "      <td>NaN</td>\n",
       "      <td>NaN</td>\n",
       "      <td>0.0</td>\n",
       "      <td>0.0</td>\n",
       "      <td>0.0</td>\n",
       "      <td>NaN</td>\n",
       "      <td>3.0</td>\n",
       "      <td>247.5</td>\n",
       "      <td>30.05</td>\n",
       "      <td>77.0</td>\n",
       "      <td>78.0</td>\n",
       "      <td>76.0</td>\n",
       "      <td>74.0</td>\n",
       "      <td>24.0</td>\n",
       "      <td>24.0</td>\n",
       "      <td>10.0</td>\n",
       "      <td>9.0</td>\n",
       "    </tr>\n",
       "    <tr>\n",
       "      <th>1</th>\n",
       "      <td>1</td>\n",
       "      <td>40.93894</td>\n",
       "      <td>-86.47418</td>\n",
       "      <td>WHIN001-PULA001</td>\n",
       "      <td>2019-07-10T04:15:00Z</td>\n",
       "      <td>69.0</td>\n",
       "      <td>70.0</td>\n",
       "      <td>69.0</td>\n",
       "      <td>84.0</td>\n",
       "      <td>NaN</td>\n",
       "      <td>NaN</td>\n",
       "      <td>0.0</td>\n",
       "      <td>0.0</td>\n",
       "      <td>1.0</td>\n",
       "      <td>247.5</td>\n",
       "      <td>3.0</td>\n",
       "      <td>247.5</td>\n",
       "      <td>30.04</td>\n",
       "      <td>76.0</td>\n",
       "      <td>78.0</td>\n",
       "      <td>76.0</td>\n",
       "      <td>74.0</td>\n",
       "      <td>24.0</td>\n",
       "      <td>25.0</td>\n",
       "      <td>10.0</td>\n",
       "      <td>9.0</td>\n",
       "    </tr>\n",
       "  </tbody>\n",
       "</table>\n",
       "</div>"
      ],
      "text/plain": [
       "   station_id  latitude  longitude             name      observation_time  \\\n",
       "0           1  40.93894  -86.47418  WHIN001-PULA001  2019-07-10T04:00:00Z   \n",
       "1           1  40.93894  -86.47418  WHIN001-PULA001  2019-07-10T04:15:00Z   \n",
       "\n",
       "   temperature  temperature_high  temperature_low  humidity  solar_radiation  \\\n",
       "0         70.0              71.0             70.0      83.0              NaN   \n",
       "1         69.0              70.0             69.0      84.0              NaN   \n",
       "\n",
       "   solar_radiation_high  rain  rain_inches_last_hour  wind_speed_mph  \\\n",
       "0                   NaN   0.0                    0.0             0.0   \n",
       "1                   NaN   0.0                    0.0             1.0   \n",
       "\n",
       "   wind_direction_degrees  wind_gust_speed_mph  wind_gust_direction_degrees  \\\n",
       "0                     NaN                  3.0                        247.5   \n",
       "1                   247.5                  3.0                        247.5   \n",
       "\n",
       "   pressure  soil_temp_1  soil_temp_2  soil_temp_3  soil_temp_4  soil_moist_1  \\\n",
       "0     30.05         77.0         78.0         76.0         74.0          24.0   \n",
       "1     30.04         76.0         78.0         76.0         74.0          24.0   \n",
       "\n",
       "   soil_moist_2  soil_moist_3  soil_moist_4  \n",
       "0          24.0          10.0           9.0  \n",
       "1          25.0          10.0           9.0  "
      ]
     },
     "execution_count": 3,
     "metadata": {},
     "output_type": "execute_result"
    }
   ],
   "source": [
    "myDF.head(2)"
   ]
  },
  {
   "cell_type": "code",
   "execution_count": 4,
   "id": "c1bee197-daf1-47d1-b0d4-d50a0ebdf2c6",
   "metadata": {},
   "outputs": [
    {
     "data": {
      "text/plain": [
       "Index(['station_id', 'latitude', 'longitude', 'name', 'observation_time',\n",
       "       'temperature', 'temperature_high', 'temperature_low', 'humidity',\n",
       "       'solar_radiation', 'solar_radiation_high', 'rain',\n",
       "       'rain_inches_last_hour', 'wind_speed_mph', 'wind_direction_degrees',\n",
       "       'wind_gust_speed_mph', 'wind_gust_direction_degrees', 'pressure',\n",
       "       'soil_temp_1', 'soil_temp_2', 'soil_temp_3', 'soil_temp_4',\n",
       "       'soil_moist_1', 'soil_moist_2', 'soil_moist_3', 'soil_moist_4'],\n",
       "      dtype='object')"
      ]
     },
     "execution_count": 4,
     "metadata": {},
     "output_type": "execute_result"
    }
   ],
   "source": [
    "myDF.columns"
   ]
  },
  {
   "cell_type": "code",
   "execution_count": 5,
   "id": "0c141716-0d0f-491d-8efd-418deb314778",
   "metadata": {},
   "outputs": [
    {
     "data": {
      "text/plain": [
       "station_id\n",
       "1      71631\n",
       "20     56917\n",
       "147    45600\n",
       "143    45593\n",
       "146    45579\n",
       "145    45509\n",
       "144    45495\n",
       "142    45395\n",
       "149    44060\n",
       "159    43563\n",
       "153    43559\n",
       "157    43534\n",
       "155    42993\n",
       "160    42810\n",
       "156    42807\n",
       "151    42806\n",
       "164    38791\n",
       "163    37908\n",
       "166    30242\n",
       "167    27463\n",
       "168    18581\n",
       "169    14905\n",
       "172    14812\n",
       "179    14772\n",
       "176    14402\n",
       "173    13648\n",
       "175    13314\n",
       "171    13311\n",
       "Name: count, dtype: int64"
      ]
     },
     "execution_count": 5,
     "metadata": {},
     "output_type": "execute_result"
    }
   ],
   "source": [
    "#records for each stations using value_counts()\n",
    "\n",
    "myDF['station_id'].value_counts()"
   ]
  },
  {
   "cell_type": "code",
   "execution_count": 6,
   "id": "e6ec50c2-e822-43c5-a241-28fcf0c4c21c",
   "metadata": {},
   "outputs": [
    {
     "data": {
      "text/plain": [
       "station_id\n",
       "1      71631\n",
       "20     56917\n",
       "142    45395\n",
       "143    45593\n",
       "144    45495\n",
       "145    45509\n",
       "146    45579\n",
       "147    45600\n",
       "149    44060\n",
       "151    42806\n",
       "153    43559\n",
       "155    42993\n",
       "156    42807\n",
       "157    43534\n",
       "159    43563\n",
       "160    42810\n",
       "163    37908\n",
       "164    38791\n",
       "166    30242\n",
       "167    27463\n",
       "168    18581\n",
       "169    14905\n",
       "171    13311\n",
       "172    14812\n",
       "173    13648\n",
       "175    13314\n",
       "176    14402\n",
       "179    14772\n",
       "dtype: int64"
      ]
     },
     "execution_count": 6,
     "metadata": {},
     "output_type": "execute_result"
    }
   ],
   "source": [
    "#records for each stations using groupby()\n",
    "group = myDF.groupby('station_id').size()\n",
    "group"
   ]
  },
  {
   "cell_type": "markdown",
   "id": "b456e57c-4a12-464b-999a-ef2df5af80c1",
   "metadata": {},
   "source": [
    "The difference is that groupby() method needs an additional method size() but not in case of value_counts() method."
   ]
  },
  {
   "cell_type": "markdown",
   "id": "fc601975-35ed-4680-a4e1-0273ee3cc047",
   "metadata": {},
   "source": [
    "## Question 2"
   ]
  },
  {
   "cell_type": "code",
   "execution_count": 7,
   "id": "a16336a1-1ef0-41e8-bc7c-49387db27497",
   "metadata": {},
   "outputs": [
    {
     "data": {
      "text/plain": [
       "station_id                          0\n",
       "latitude                            0\n",
       "longitude                           0\n",
       "name                                0\n",
       "observation_time                    0\n",
       "temperature                      4176\n",
       "temperature_high                 4123\n",
       "temperature_low                  4123\n",
       "humidity                         4162\n",
       "solar_radiation                 48104\n",
       "solar_radiation_high            12828\n",
       "rain                                0\n",
       "rain_inches_last_hour               0\n",
       "wind_speed_mph                   4032\n",
       "wind_direction_degrees          95545\n",
       "wind_gust_speed_mph                 0\n",
       "wind_gust_direction_degrees     94216\n",
       "pressure                            0\n",
       "soil_temp_1                    114043\n",
       "soil_temp_2                    114041\n",
       "soil_temp_3                    114037\n",
       "soil_temp_4                    114036\n",
       "soil_moist_1                   114124\n",
       "soil_moist_2                   114170\n",
       "soil_moist_3                   114174\n",
       "soil_moist_4                   114150\n",
       "dtype: int64"
      ]
     },
     "execution_count": 7,
     "metadata": {},
     "output_type": "execute_result"
    }
   ],
   "source": [
    "null_count = myDF.isnull().sum()\n",
    "null_count"
   ]
  },
  {
   "cell_type": "code",
   "execution_count": 8,
   "id": "e10b9de4-91f3-4874-b3d6-d1d8fed2e4df",
   "metadata": {},
   "outputs": [
    {
     "data": {
      "text/plain": [
       "1184084"
      ]
     },
     "execution_count": 8,
     "metadata": {},
     "output_type": "execute_result"
    }
   ],
   "source": [
    "total = myDF.isnull().sum().sum();\n",
    "total"
   ]
  },
  {
   "cell_type": "code",
   "execution_count": 9,
   "id": "c64bc337-d294-45da-91c4-466cfbaad20a",
   "metadata": {},
   "outputs": [],
   "source": [
    "myDF_cleaned = myDF.dropna()"
   ]
  },
  {
   "cell_type": "code",
   "execution_count": 10,
   "id": "06e51ee0-5ffe-40f4-9696-14c3a9f389de",
   "metadata": {},
   "outputs": [
    {
     "data": {
      "text/plain": [
       "station_id                     0\n",
       "latitude                       0\n",
       "longitude                      0\n",
       "name                           0\n",
       "observation_time               0\n",
       "temperature                    0\n",
       "temperature_high               0\n",
       "temperature_low                0\n",
       "humidity                       0\n",
       "solar_radiation                0\n",
       "solar_radiation_high           0\n",
       "rain                           0\n",
       "rain_inches_last_hour          0\n",
       "wind_speed_mph                 0\n",
       "wind_direction_degrees         0\n",
       "wind_gust_speed_mph            0\n",
       "wind_gust_direction_degrees    0\n",
       "pressure                       0\n",
       "soil_temp_1                    0\n",
       "soil_temp_2                    0\n",
       "soil_temp_3                    0\n",
       "soil_temp_4                    0\n",
       "soil_moist_1                   0\n",
       "soil_moist_2                   0\n",
       "soil_moist_3                   0\n",
       "soil_moist_4                   0\n",
       "dtype: int64"
      ]
     },
     "execution_count": 10,
     "metadata": {},
     "output_type": "execute_result"
    }
   ],
   "source": [
    "myDF_cleaned.isnull().sum()"
   ]
  },
  {
   "cell_type": "code",
   "execution_count": 11,
   "id": "faba6fb6-22ea-411d-bb93-54fea2aaad31",
   "metadata": {},
   "outputs": [
    {
     "data": {
      "text/plain": [
       "0"
      ]
     },
     "execution_count": 11,
     "metadata": {},
     "output_type": "execute_result"
    }
   ],
   "source": [
    "total = myDF_cleaned.isnull().sum().sum();\n",
    "total"
   ]
  },
  {
   "cell_type": "markdown",
   "id": "8e586edd-ff26-4ce2-8f6b-2424b26f2929",
   "metadata": {},
   "source": [
    "## Question 3"
   ]
  },
  {
   "cell_type": "code",
   "execution_count": 12,
   "id": "bbe0f40d-9655-4653-9ca8-886bdb61cb91",
   "metadata": {},
   "outputs": [
    {
     "data": {
      "text/plain": [
       "(995824, 26)"
      ]
     },
     "execution_count": 12,
     "metadata": {},
     "output_type": "execute_result"
    }
   ],
   "source": [
    "new_df  = myDF.dropna(subset =['temperature'])\n",
    "new_df.shape"
   ]
  },
  {
   "cell_type": "code",
   "execution_count": 13,
   "id": "46583bf4-d454-4328-808f-d6a3ffd62826",
   "metadata": {},
   "outputs": [
    {
     "data": {
      "text/html": [
       "<div>\n",
       "<style scoped>\n",
       "    .dataframe tbody tr th:only-of-type {\n",
       "        vertical-align: middle;\n",
       "    }\n",
       "\n",
       "    .dataframe tbody tr th {\n",
       "        vertical-align: top;\n",
       "    }\n",
       "\n",
       "    .dataframe thead th {\n",
       "        text-align: right;\n",
       "    }\n",
       "</style>\n",
       "<table border=\"1\" class=\"dataframe\">\n",
       "  <thead>\n",
       "    <tr style=\"text-align: right;\">\n",
       "      <th></th>\n",
       "      <th>station_id</th>\n",
       "      <th>latitude</th>\n",
       "      <th>longitude</th>\n",
       "      <th>name</th>\n",
       "      <th>observation_time</th>\n",
       "      <th>temperature</th>\n",
       "      <th>temperature_high</th>\n",
       "      <th>temperature_low</th>\n",
       "      <th>humidity</th>\n",
       "      <th>solar_radiation</th>\n",
       "      <th>solar_radiation_high</th>\n",
       "      <th>rain</th>\n",
       "      <th>rain_inches_last_hour</th>\n",
       "      <th>wind_speed_mph</th>\n",
       "      <th>wind_direction_degrees</th>\n",
       "      <th>wind_gust_speed_mph</th>\n",
       "      <th>wind_gust_direction_degrees</th>\n",
       "      <th>pressure</th>\n",
       "      <th>soil_temp_1</th>\n",
       "      <th>soil_temp_2</th>\n",
       "      <th>soil_temp_3</th>\n",
       "      <th>soil_temp_4</th>\n",
       "      <th>soil_moist_1</th>\n",
       "      <th>soil_moist_2</th>\n",
       "      <th>soil_moist_3</th>\n",
       "      <th>soil_moist_4</th>\n",
       "    </tr>\n",
       "  </thead>\n",
       "  <tbody>\n",
       "    <tr>\n",
       "      <th>0</th>\n",
       "      <td>1</td>\n",
       "      <td>40.93894</td>\n",
       "      <td>-86.47418</td>\n",
       "      <td>WHIN001-PULA001</td>\n",
       "      <td>2019-07-10T04:00:00Z</td>\n",
       "      <td>70.0</td>\n",
       "      <td>71.0</td>\n",
       "      <td>70.0</td>\n",
       "      <td>83.0</td>\n",
       "      <td>NaN</td>\n",
       "      <td>NaN</td>\n",
       "      <td>0.0</td>\n",
       "      <td>0.0</td>\n",
       "      <td>0.0</td>\n",
       "      <td>NaN</td>\n",
       "      <td>3.0</td>\n",
       "      <td>247.5</td>\n",
       "      <td>30.05</td>\n",
       "      <td>77.0</td>\n",
       "      <td>78.0</td>\n",
       "      <td>76.0</td>\n",
       "      <td>74.0</td>\n",
       "      <td>24.0</td>\n",
       "      <td>24.0</td>\n",
       "      <td>10.0</td>\n",
       "      <td>9.0</td>\n",
       "    </tr>\n",
       "    <tr>\n",
       "      <th>1</th>\n",
       "      <td>1</td>\n",
       "      <td>40.93894</td>\n",
       "      <td>-86.47418</td>\n",
       "      <td>WHIN001-PULA001</td>\n",
       "      <td>2019-07-10T04:15:00Z</td>\n",
       "      <td>69.0</td>\n",
       "      <td>70.0</td>\n",
       "      <td>69.0</td>\n",
       "      <td>84.0</td>\n",
       "      <td>NaN</td>\n",
       "      <td>NaN</td>\n",
       "      <td>0.0</td>\n",
       "      <td>0.0</td>\n",
       "      <td>1.0</td>\n",
       "      <td>247.5</td>\n",
       "      <td>3.0</td>\n",
       "      <td>247.5</td>\n",
       "      <td>30.04</td>\n",
       "      <td>76.0</td>\n",
       "      <td>78.0</td>\n",
       "      <td>76.0</td>\n",
       "      <td>74.0</td>\n",
       "      <td>24.0</td>\n",
       "      <td>25.0</td>\n",
       "      <td>10.0</td>\n",
       "      <td>9.0</td>\n",
       "    </tr>\n",
       "    <tr>\n",
       "      <th>2</th>\n",
       "      <td>1</td>\n",
       "      <td>40.93894</td>\n",
       "      <td>-86.47418</td>\n",
       "      <td>WHIN001-PULA001</td>\n",
       "      <td>2019-07-11T04:00:00Z</td>\n",
       "      <td>76.0</td>\n",
       "      <td>77.0</td>\n",
       "      <td>76.0</td>\n",
       "      <td>76.0</td>\n",
       "      <td>NaN</td>\n",
       "      <td>NaN</td>\n",
       "      <td>0.0</td>\n",
       "      <td>0.0</td>\n",
       "      <td>2.0</td>\n",
       "      <td>202.5</td>\n",
       "      <td>4.0</td>\n",
       "      <td>202.5</td>\n",
       "      <td>29.89</td>\n",
       "      <td>80.0</td>\n",
       "      <td>80.0</td>\n",
       "      <td>78.0</td>\n",
       "      <td>75.0</td>\n",
       "      <td>31.0</td>\n",
       "      <td>30.0</td>\n",
       "      <td>12.0</td>\n",
       "      <td>10.0</td>\n",
       "    </tr>\n",
       "    <tr>\n",
       "      <th>3</th>\n",
       "      <td>1</td>\n",
       "      <td>40.93894</td>\n",
       "      <td>-86.47418</td>\n",
       "      <td>WHIN001-PULA001</td>\n",
       "      <td>2019-07-11T04:15:00Z</td>\n",
       "      <td>76.0</td>\n",
       "      <td>76.0</td>\n",
       "      <td>76.0</td>\n",
       "      <td>77.0</td>\n",
       "      <td>NaN</td>\n",
       "      <td>NaN</td>\n",
       "      <td>0.0</td>\n",
       "      <td>0.0</td>\n",
       "      <td>2.0</td>\n",
       "      <td>202.5</td>\n",
       "      <td>4.0</td>\n",
       "      <td>202.5</td>\n",
       "      <td>29.88</td>\n",
       "      <td>80.0</td>\n",
       "      <td>80.0</td>\n",
       "      <td>78.0</td>\n",
       "      <td>75.0</td>\n",
       "      <td>31.0</td>\n",
       "      <td>31.0</td>\n",
       "      <td>12.0</td>\n",
       "      <td>10.0</td>\n",
       "    </tr>\n",
       "    <tr>\n",
       "      <th>4</th>\n",
       "      <td>1</td>\n",
       "      <td>40.93894</td>\n",
       "      <td>-86.47418</td>\n",
       "      <td>WHIN001-PULA001</td>\n",
       "      <td>2019-07-11T04:30:00Z</td>\n",
       "      <td>76.0</td>\n",
       "      <td>76.0</td>\n",
       "      <td>76.0</td>\n",
       "      <td>77.0</td>\n",
       "      <td>NaN</td>\n",
       "      <td>NaN</td>\n",
       "      <td>0.0</td>\n",
       "      <td>0.0</td>\n",
       "      <td>2.0</td>\n",
       "      <td>225.0</td>\n",
       "      <td>4.0</td>\n",
       "      <td>202.5</td>\n",
       "      <td>29.88</td>\n",
       "      <td>80.0</td>\n",
       "      <td>80.0</td>\n",
       "      <td>78.0</td>\n",
       "      <td>75.0</td>\n",
       "      <td>32.0</td>\n",
       "      <td>31.0</td>\n",
       "      <td>12.0</td>\n",
       "      <td>10.0</td>\n",
       "    </tr>\n",
       "  </tbody>\n",
       "</table>\n",
       "</div>"
      ],
      "text/plain": [
       "   station_id  latitude  longitude             name      observation_time  \\\n",
       "0           1  40.93894  -86.47418  WHIN001-PULA001  2019-07-10T04:00:00Z   \n",
       "1           1  40.93894  -86.47418  WHIN001-PULA001  2019-07-10T04:15:00Z   \n",
       "2           1  40.93894  -86.47418  WHIN001-PULA001  2019-07-11T04:00:00Z   \n",
       "3           1  40.93894  -86.47418  WHIN001-PULA001  2019-07-11T04:15:00Z   \n",
       "4           1  40.93894  -86.47418  WHIN001-PULA001  2019-07-11T04:30:00Z   \n",
       "\n",
       "   temperature  temperature_high  temperature_low  humidity  solar_radiation  \\\n",
       "0         70.0              71.0             70.0      83.0              NaN   \n",
       "1         69.0              70.0             69.0      84.0              NaN   \n",
       "2         76.0              77.0             76.0      76.0              NaN   \n",
       "3         76.0              76.0             76.0      77.0              NaN   \n",
       "4         76.0              76.0             76.0      77.0              NaN   \n",
       "\n",
       "   solar_radiation_high  rain  rain_inches_last_hour  wind_speed_mph  \\\n",
       "0                   NaN   0.0                    0.0             0.0   \n",
       "1                   NaN   0.0                    0.0             1.0   \n",
       "2                   NaN   0.0                    0.0             2.0   \n",
       "3                   NaN   0.0                    0.0             2.0   \n",
       "4                   NaN   0.0                    0.0             2.0   \n",
       "\n",
       "   wind_direction_degrees  wind_gust_speed_mph  wind_gust_direction_degrees  \\\n",
       "0                     NaN                  3.0                        247.5   \n",
       "1                   247.5                  3.0                        247.5   \n",
       "2                   202.5                  4.0                        202.5   \n",
       "3                   202.5                  4.0                        202.5   \n",
       "4                   225.0                  4.0                        202.5   \n",
       "\n",
       "   pressure  soil_temp_1  soil_temp_2  soil_temp_3  soil_temp_4  soil_moist_1  \\\n",
       "0     30.05         77.0         78.0         76.0         74.0          24.0   \n",
       "1     30.04         76.0         78.0         76.0         74.0          24.0   \n",
       "2     29.89         80.0         80.0         78.0         75.0          31.0   \n",
       "3     29.88         80.0         80.0         78.0         75.0          31.0   \n",
       "4     29.88         80.0         80.0         78.0         75.0          32.0   \n",
       "\n",
       "   soil_moist_2  soil_moist_3  soil_moist_4  \n",
       "0          24.0          10.0           9.0  \n",
       "1          25.0          10.0           9.0  \n",
       "2          30.0          12.0          10.0  \n",
       "3          31.0          12.0          10.0  \n",
       "4          31.0          12.0          10.0  "
      ]
     },
     "execution_count": 13,
     "metadata": {},
     "output_type": "execute_result"
    }
   ],
   "source": [
    "new_df.head()"
   ]
  },
  {
   "cell_type": "code",
   "execution_count": 14,
   "id": "1a17df1d-53a9-4d3e-a368-7c8bc43f7e6a",
   "metadata": {},
   "outputs": [
    {
     "name": "stderr",
     "output_type": "stream",
     "text": [
      "/tmp/ipykernel_177534/4089450792.py:1: SettingWithCopyWarning: \n",
      "A value is trying to be set on a copy of a slice from a DataFrame.\n",
      "Try using .loc[row_indexer,col_indexer] = value instead\n",
      "\n",
      "See the caveats in the documentation: https://pandas.pydata.org/pandas-docs/stable/user_guide/indexing.html#returning-a-view-versus-a-copy\n",
      "  new_df['location'] = new_df['latitude'].astype(str) + '_'+ new_df['longitude'].astype(str)\n"
     ]
    }
   ],
   "source": [
    "new_df['location'] = new_df['latitude'].astype(str) + '_'+ new_df['longitude'].astype(str)"
   ]
  },
  {
   "cell_type": "code",
   "execution_count": 15,
   "id": "268199ab-6a69-4399-94a0-512a44192053",
   "metadata": {},
   "outputs": [
    {
     "data": {
      "text/html": [
       "<div>\n",
       "<style scoped>\n",
       "    .dataframe tbody tr th:only-of-type {\n",
       "        vertical-align: middle;\n",
       "    }\n",
       "\n",
       "    .dataframe tbody tr th {\n",
       "        vertical-align: top;\n",
       "    }\n",
       "\n",
       "    .dataframe thead th {\n",
       "        text-align: right;\n",
       "    }\n",
       "</style>\n",
       "<table border=\"1\" class=\"dataframe\">\n",
       "  <thead>\n",
       "    <tr style=\"text-align: right;\">\n",
       "      <th></th>\n",
       "      <th>station_id</th>\n",
       "      <th>latitude</th>\n",
       "      <th>longitude</th>\n",
       "      <th>name</th>\n",
       "      <th>observation_time</th>\n",
       "      <th>temperature</th>\n",
       "      <th>temperature_high</th>\n",
       "      <th>temperature_low</th>\n",
       "      <th>humidity</th>\n",
       "      <th>solar_radiation</th>\n",
       "      <th>solar_radiation_high</th>\n",
       "      <th>rain</th>\n",
       "      <th>rain_inches_last_hour</th>\n",
       "      <th>wind_speed_mph</th>\n",
       "      <th>wind_direction_degrees</th>\n",
       "      <th>wind_gust_speed_mph</th>\n",
       "      <th>wind_gust_direction_degrees</th>\n",
       "      <th>pressure</th>\n",
       "      <th>soil_temp_1</th>\n",
       "      <th>soil_temp_2</th>\n",
       "      <th>soil_temp_3</th>\n",
       "      <th>soil_temp_4</th>\n",
       "      <th>soil_moist_1</th>\n",
       "      <th>soil_moist_2</th>\n",
       "      <th>soil_moist_3</th>\n",
       "      <th>soil_moist_4</th>\n",
       "      <th>location</th>\n",
       "    </tr>\n",
       "  </thead>\n",
       "  <tbody>\n",
       "    <tr>\n",
       "      <th>0</th>\n",
       "      <td>1</td>\n",
       "      <td>40.93894</td>\n",
       "      <td>-86.47418</td>\n",
       "      <td>WHIN001-PULA001</td>\n",
       "      <td>2019-07-10T04:00:00Z</td>\n",
       "      <td>70.0</td>\n",
       "      <td>71.0</td>\n",
       "      <td>70.0</td>\n",
       "      <td>83.0</td>\n",
       "      <td>NaN</td>\n",
       "      <td>NaN</td>\n",
       "      <td>0.0</td>\n",
       "      <td>0.0</td>\n",
       "      <td>0.0</td>\n",
       "      <td>NaN</td>\n",
       "      <td>3.0</td>\n",
       "      <td>247.5</td>\n",
       "      <td>30.05</td>\n",
       "      <td>77.0</td>\n",
       "      <td>78.0</td>\n",
       "      <td>76.0</td>\n",
       "      <td>74.0</td>\n",
       "      <td>24.0</td>\n",
       "      <td>24.0</td>\n",
       "      <td>10.0</td>\n",
       "      <td>9.0</td>\n",
       "      <td>40.93894_-86.47418</td>\n",
       "    </tr>\n",
       "    <tr>\n",
       "      <th>1</th>\n",
       "      <td>1</td>\n",
       "      <td>40.93894</td>\n",
       "      <td>-86.47418</td>\n",
       "      <td>WHIN001-PULA001</td>\n",
       "      <td>2019-07-10T04:15:00Z</td>\n",
       "      <td>69.0</td>\n",
       "      <td>70.0</td>\n",
       "      <td>69.0</td>\n",
       "      <td>84.0</td>\n",
       "      <td>NaN</td>\n",
       "      <td>NaN</td>\n",
       "      <td>0.0</td>\n",
       "      <td>0.0</td>\n",
       "      <td>1.0</td>\n",
       "      <td>247.5</td>\n",
       "      <td>3.0</td>\n",
       "      <td>247.5</td>\n",
       "      <td>30.04</td>\n",
       "      <td>76.0</td>\n",
       "      <td>78.0</td>\n",
       "      <td>76.0</td>\n",
       "      <td>74.0</td>\n",
       "      <td>24.0</td>\n",
       "      <td>25.0</td>\n",
       "      <td>10.0</td>\n",
       "      <td>9.0</td>\n",
       "      <td>40.93894_-86.47418</td>\n",
       "    </tr>\n",
       "    <tr>\n",
       "      <th>2</th>\n",
       "      <td>1</td>\n",
       "      <td>40.93894</td>\n",
       "      <td>-86.47418</td>\n",
       "      <td>WHIN001-PULA001</td>\n",
       "      <td>2019-07-11T04:00:00Z</td>\n",
       "      <td>76.0</td>\n",
       "      <td>77.0</td>\n",
       "      <td>76.0</td>\n",
       "      <td>76.0</td>\n",
       "      <td>NaN</td>\n",
       "      <td>NaN</td>\n",
       "      <td>0.0</td>\n",
       "      <td>0.0</td>\n",
       "      <td>2.0</td>\n",
       "      <td>202.5</td>\n",
       "      <td>4.0</td>\n",
       "      <td>202.5</td>\n",
       "      <td>29.89</td>\n",
       "      <td>80.0</td>\n",
       "      <td>80.0</td>\n",
       "      <td>78.0</td>\n",
       "      <td>75.0</td>\n",
       "      <td>31.0</td>\n",
       "      <td>30.0</td>\n",
       "      <td>12.0</td>\n",
       "      <td>10.0</td>\n",
       "      <td>40.93894_-86.47418</td>\n",
       "    </tr>\n",
       "    <tr>\n",
       "      <th>3</th>\n",
       "      <td>1</td>\n",
       "      <td>40.93894</td>\n",
       "      <td>-86.47418</td>\n",
       "      <td>WHIN001-PULA001</td>\n",
       "      <td>2019-07-11T04:15:00Z</td>\n",
       "      <td>76.0</td>\n",
       "      <td>76.0</td>\n",
       "      <td>76.0</td>\n",
       "      <td>77.0</td>\n",
       "      <td>NaN</td>\n",
       "      <td>NaN</td>\n",
       "      <td>0.0</td>\n",
       "      <td>0.0</td>\n",
       "      <td>2.0</td>\n",
       "      <td>202.5</td>\n",
       "      <td>4.0</td>\n",
       "      <td>202.5</td>\n",
       "      <td>29.88</td>\n",
       "      <td>80.0</td>\n",
       "      <td>80.0</td>\n",
       "      <td>78.0</td>\n",
       "      <td>75.0</td>\n",
       "      <td>31.0</td>\n",
       "      <td>31.0</td>\n",
       "      <td>12.0</td>\n",
       "      <td>10.0</td>\n",
       "      <td>40.93894_-86.47418</td>\n",
       "    </tr>\n",
       "    <tr>\n",
       "      <th>4</th>\n",
       "      <td>1</td>\n",
       "      <td>40.93894</td>\n",
       "      <td>-86.47418</td>\n",
       "      <td>WHIN001-PULA001</td>\n",
       "      <td>2019-07-11T04:30:00Z</td>\n",
       "      <td>76.0</td>\n",
       "      <td>76.0</td>\n",
       "      <td>76.0</td>\n",
       "      <td>77.0</td>\n",
       "      <td>NaN</td>\n",
       "      <td>NaN</td>\n",
       "      <td>0.0</td>\n",
       "      <td>0.0</td>\n",
       "      <td>2.0</td>\n",
       "      <td>225.0</td>\n",
       "      <td>4.0</td>\n",
       "      <td>202.5</td>\n",
       "      <td>29.88</td>\n",
       "      <td>80.0</td>\n",
       "      <td>80.0</td>\n",
       "      <td>78.0</td>\n",
       "      <td>75.0</td>\n",
       "      <td>32.0</td>\n",
       "      <td>31.0</td>\n",
       "      <td>12.0</td>\n",
       "      <td>10.0</td>\n",
       "      <td>40.93894_-86.47418</td>\n",
       "    </tr>\n",
       "  </tbody>\n",
       "</table>\n",
       "</div>"
      ],
      "text/plain": [
       "   station_id  latitude  longitude             name      observation_time  \\\n",
       "0           1  40.93894  -86.47418  WHIN001-PULA001  2019-07-10T04:00:00Z   \n",
       "1           1  40.93894  -86.47418  WHIN001-PULA001  2019-07-10T04:15:00Z   \n",
       "2           1  40.93894  -86.47418  WHIN001-PULA001  2019-07-11T04:00:00Z   \n",
       "3           1  40.93894  -86.47418  WHIN001-PULA001  2019-07-11T04:15:00Z   \n",
       "4           1  40.93894  -86.47418  WHIN001-PULA001  2019-07-11T04:30:00Z   \n",
       "\n",
       "   temperature  temperature_high  temperature_low  humidity  solar_radiation  \\\n",
       "0         70.0              71.0             70.0      83.0              NaN   \n",
       "1         69.0              70.0             69.0      84.0              NaN   \n",
       "2         76.0              77.0             76.0      76.0              NaN   \n",
       "3         76.0              76.0             76.0      77.0              NaN   \n",
       "4         76.0              76.0             76.0      77.0              NaN   \n",
       "\n",
       "   solar_radiation_high  rain  rain_inches_last_hour  wind_speed_mph  \\\n",
       "0                   NaN   0.0                    0.0             0.0   \n",
       "1                   NaN   0.0                    0.0             1.0   \n",
       "2                   NaN   0.0                    0.0             2.0   \n",
       "3                   NaN   0.0                    0.0             2.0   \n",
       "4                   NaN   0.0                    0.0             2.0   \n",
       "\n",
       "   wind_direction_degrees  wind_gust_speed_mph  wind_gust_direction_degrees  \\\n",
       "0                     NaN                  3.0                        247.5   \n",
       "1                   247.5                  3.0                        247.5   \n",
       "2                   202.5                  4.0                        202.5   \n",
       "3                   202.5                  4.0                        202.5   \n",
       "4                   225.0                  4.0                        202.5   \n",
       "\n",
       "   pressure  soil_temp_1  soil_temp_2  soil_temp_3  soil_temp_4  soil_moist_1  \\\n",
       "0     30.05         77.0         78.0         76.0         74.0          24.0   \n",
       "1     30.04         76.0         78.0         76.0         74.0          24.0   \n",
       "2     29.89         80.0         80.0         78.0         75.0          31.0   \n",
       "3     29.88         80.0         80.0         78.0         75.0          31.0   \n",
       "4     29.88         80.0         80.0         78.0         75.0          32.0   \n",
       "\n",
       "   soil_moist_2  soil_moist_3  soil_moist_4            location  \n",
       "0          24.0          10.0           9.0  40.93894_-86.47418  \n",
       "1          25.0          10.0           9.0  40.93894_-86.47418  \n",
       "2          30.0          12.0          10.0  40.93894_-86.47418  \n",
       "3          31.0          12.0          10.0  40.93894_-86.47418  \n",
       "4          31.0          12.0          10.0  40.93894_-86.47418  "
      ]
     },
     "execution_count": 15,
     "metadata": {},
     "output_type": "execute_result"
    }
   ],
   "source": [
    "new_df.head()"
   ]
  },
  {
   "cell_type": "code",
   "execution_count": 16,
   "id": "d1bb3ca6-b2bd-451a-a9c5-0fa2f56f4166",
   "metadata": {},
   "outputs": [
    {
     "data": {
      "text/plain": [
       "location\n",
       "40.10483_-86.86619                    56.057495\n",
       "40.1492432088387_-86.7371410131454    61.413324\n",
       "40.16179_-87.35246                    54.052897\n",
       "40.2709571472446_-87.1486035394257    49.803342\n",
       "40.2967994865571_-87.3902853950858    57.855233\n",
       "40.30156_-87.48248                    58.889855\n",
       "40.37634_-86.59591                    54.794076\n",
       "40.38116_-86.40269                    47.765668\n",
       "40.3840069271445_-87.31664031744      59.552215\n",
       "40.38539_-87.51034                    55.115662\n",
       "40.3861140862113_-87.1012964844704    59.383360\n",
       "40.42124_-86.84642                    50.742410\n",
       "40.43134_-86.53464                    55.081819\n",
       "40.48079_-87.20682                    51.730032\n",
       "40.4869749155437_-87.4914180859923    58.971553\n",
       "40.51432_-86.45856                    55.183031\n",
       "40.53722_-86.95342                    55.070667\n",
       "40.5485_-87.12477                     54.898998\n",
       "40.58629_-87.43654                    54.676701\n",
       "40.59057_-86.39155                    55.307808\n",
       "40.70178_-86.70649                    55.482287\n",
       "40.78049_-86.89576                    54.791890\n",
       "40.84436_-86.18173                    54.942505\n",
       "40.93894_-86.47418                    49.883742\n",
       "40.9700622558594_-86.9013715815608    59.919768\n",
       "40.97061_-86.35304                    55.292530\n",
       "40.98224_-86.38542                    54.206106\n",
       "41.01865_-86.7101                     53.836086\n",
       "Name: temperature, dtype: float64"
      ]
     },
     "execution_count": 16,
     "metadata": {},
     "output_type": "execute_result"
    }
   ],
   "source": [
    "avg_temperature_by_loc = new_df.groupby('location')['temperature'].mean()\n",
    "avg_temperature_by_loc"
   ]
  },
  {
   "cell_type": "markdown",
   "id": "47c6229f-35f7-400c-8366-c442baa5cf47",
   "metadata": {},
   "source": [
    "Markdown notes and sentences and analysis written here."
   ]
  },
  {
   "cell_type": "markdown",
   "id": "da22f29c-d245-4d2b-9fc1-ca14cb6087d9",
   "metadata": {},
   "source": [
    "## Question 4"
   ]
  },
  {
   "cell_type": "code",
   "execution_count": 17,
   "id": "8cffc767-d1c8-4d64-b7dc-f0d2ee8a80d1",
   "metadata": {},
   "outputs": [],
   "source": [
    "# find the average temperature by location\n",
    "# input is a  file location of data frame\n",
    "def avg_temperature_by_location (file_location):\n",
    "    myDF = pd.read_csv(file_location)\n",
    "    pd.set_option('display.max_columns', None)\n",
    "    \n",
    "    newDF  = myDF.dropna(subset =['temperature']);\n",
    "    newDF['location'] = newDF['latitude'].astype(str) + '_'+ newDF['longitude'].astype(str);\n",
    "    \n",
    "    # caluclate the average temperature by location\n",
    "    avg_temperature_by_loc = newDF.groupby('location')['temperature'].mean()\n",
    "    \n",
    "    return avg_temperature_by_loc\n",
    "    \n",
    "# returns avg_temperature_by_location values"
   ]
  },
  {
   "cell_type": "code",
   "execution_count": 18,
   "id": "9aa49a00-7a31-4336-91bc-1e6553f2760f",
   "metadata": {},
   "outputs": [
    {
     "name": "stderr",
     "output_type": "stream",
     "text": [
      "/tmp/ipykernel_177534/3508060711.py:8: SettingWithCopyWarning: \n",
      "A value is trying to be set on a copy of a slice from a DataFrame.\n",
      "Try using .loc[row_indexer,col_indexer] = value instead\n",
      "\n",
      "See the caveats in the documentation: https://pandas.pydata.org/pandas-docs/stable/user_guide/indexing.html#returning-a-view-versus-a-copy\n",
      "  newDF['location'] = newDF['latitude'].astype(str) + '_'+ newDF['longitude'].astype(str);\n"
     ]
    },
    {
     "data": {
      "text/plain": [
       "location\n",
       "40.10483_-86.86619                    56.057495\n",
       "40.1492432088387_-86.7371410131454    61.413324\n",
       "40.16179_-87.35246                    54.052897\n",
       "40.2709571472446_-87.1486035394257    49.803342\n",
       "40.2967994865571_-87.3902853950858    57.855233\n",
       "40.30156_-87.48248                    58.889855\n",
       "40.37634_-86.59591                    54.794076\n",
       "40.38116_-86.40269                    47.765668\n",
       "40.3840069271445_-87.31664031744      59.552215\n",
       "40.38539_-87.51034                    55.115662\n",
       "40.3861140862113_-87.1012964844704    59.383360\n",
       "40.42124_-86.84642                    50.742410\n",
       "40.43134_-86.53464                    55.081819\n",
       "40.48079_-87.20682                    51.730032\n",
       "40.4869749155437_-87.4914180859923    58.971553\n",
       "40.51432_-86.45856                    55.183031\n",
       "40.53722_-86.95342                    55.070667\n",
       "40.5485_-87.12477                     54.898998\n",
       "40.58629_-87.43654                    54.676701\n",
       "40.59057_-86.39155                    55.307808\n",
       "40.70178_-86.70649                    55.482287\n",
       "40.78049_-86.89576                    54.791890\n",
       "40.84436_-86.18173                    54.942505\n",
       "40.93894_-86.47418                    49.883742\n",
       "40.9700622558594_-86.9013715815608    59.919768\n",
       "40.97061_-86.35304                    55.292530\n",
       "40.98224_-86.38542                    54.206106\n",
       "41.01865_-86.7101                     53.836086\n",
       "Name: temperature, dtype: float64"
      ]
     },
     "execution_count": 18,
     "metadata": {},
     "output_type": "execute_result"
    }
   ],
   "source": [
    "# calling the function\n",
    "file_location = \"/anvil/projects/tdm/data/whin/weather.csv\"\n",
    "avg_temperature_by_location(file_location)"
   ]
  },
  {
   "cell_type": "markdown",
   "id": "88c9cdac-3e92-498f-83fa-e089bfc44ac8",
   "metadata": {},
   "source": [
    "## Question 5"
   ]
  },
  {
   "cell_type": "code",
   "execution_count": 19,
   "id": "d370d7c9-06db-42b9-b75f-240481a5c491",
   "metadata": {},
   "outputs": [
    {
     "data": {
      "text/plain": [
       "(1000000, 26)"
      ]
     },
     "execution_count": 19,
     "metadata": {},
     "output_type": "execute_result"
    }
   ],
   "source": [
    "new_df1  = myDF.dropna(subset =['wind_gust_speed_mph'])\n",
    "new_df1.shape"
   ]
  },
  {
   "cell_type": "code",
   "execution_count": 20,
   "id": "acded78d-c4de-4b9e-991a-f3b8da002135",
   "metadata": {},
   "outputs": [
    {
     "data": {
      "text/plain": [
       "location\n",
       "40.10483_-86.86619                    10.563551\n",
       "40.1492432088387_-86.7371410131454    10.136323\n",
       "40.16179_-87.35246                     9.032308\n",
       "40.2709571472446_-87.1486035394257     9.994114\n",
       "40.2967994865571_-87.3902853950858    11.560288\n",
       "40.30156_-87.48248                    10.205555\n",
       "40.37634_-86.59591                    10.174628\n",
       "40.38116_-86.40269                    12.851717\n",
       "40.3840069271445_-87.31664031744       6.184488\n",
       "40.38539_-87.51034                    11.075945\n",
       "40.3861140862113_-87.1012964844704     7.812415\n",
       "40.42124_-86.84642                     5.974205\n",
       "40.43134_-86.53464                    11.226786\n",
       "40.48079_-87.20682                     6.290474\n",
       "40.4869749155437_-87.4914180859923    11.720362\n",
       "40.51432_-86.45856                    10.181839\n",
       "40.53722_-86.95342                    11.794791\n",
       "40.5485_-87.12477                     10.516033\n",
       "40.58629_-87.43654                    11.681777\n",
       "40.59057_-86.39155                    10.055651\n",
       "40.70178_-86.70649                    10.139477\n",
       "40.78049_-86.89576                    10.855496\n",
       "40.84436_-86.18173                    10.285534\n",
       "40.93894_-86.47418                     9.945019\n",
       "40.9700622558594_-86.9013715815608    11.544695\n",
       "40.97061_-86.35304                    10.843384\n",
       "40.98224_-86.38542                    10.964359\n",
       "41.01865_-86.7101                      8.976051\n",
       "Name: wind_gust_speed_mph, dtype: float64"
      ]
     },
     "execution_count": 20,
     "metadata": {},
     "output_type": "execute_result"
    }
   ],
   "source": [
    "new_df1['location'] = new_df1['latitude'].astype(str) + '_'+ new_df['longitude'].astype(str)\n",
    "\n",
    "avg_temperature_by_loc = new_df.groupby('location')['wind_gust_speed_mph'].mean()\n",
    "avg_temperature_by_loc"
   ]
  },
  {
   "cell_type": "code",
   "execution_count": 1,
   "id": "d84fbc83-2361-464a-aed7-ca277478f6de",
   "metadata": {},
   "outputs": [],
   "source": [
    "# find the average wind_gust_speed_mph by location\n",
    "# input is a  file location of data frame\n",
    "def avg__wind_gust_speed_mph_by_location (file_location):\n",
    "    myDF = pd.read_csv(file_location)\n",
    "    pd.set_option('display.max_columns', None)\n",
    "    \n",
    "    newDF  = myDF.dropna(subset =['wind_gust_speed_mph']);\n",
    "    newDF['location'] = newDF['latitude'].astype(str) + '_'+ newDF['longitude'].astype(str);\n",
    "    \n",
    "    # caluclate the average temperature by location\n",
    "    avg__wind_gust_speed_mph_by_loc = newDF.groupby('location')['wind_gust_speed_mph'].mean()\n",
    "    \n",
    "    return avg__wind_gust_speed_mph_by_loc\n",
    "    \n",
    "# returns avg_wind_gust_speed_mph_by_location values"
   ]
  },
  {
   "cell_type": "code",
   "execution_count": 4,
   "id": "2c29fd16-a7d0-4da9-a18b-4aad5eb12515",
   "metadata": {},
   "outputs": [
    {
     "data": {
      "text/plain": [
       "location\n",
       "40.10483_-86.86619                    10.186783\n",
       "40.1492432088387_-86.7371410131454    10.136323\n",
       "40.16179_-87.35246                     9.026960\n",
       "40.2709571472446_-87.1486035394257     9.993939\n",
       "40.2967994865571_-87.3902853950858    11.560288\n",
       "40.30156_-87.48248                    10.146300\n",
       "40.37634_-86.59591                    10.174628\n",
       "40.38116_-86.40269                    12.850781\n",
       "40.3840069271445_-87.31664031744       6.184488\n",
       "40.38539_-87.51034                    11.075690\n",
       "40.3861140862113_-87.1012964844704     7.812415\n",
       "40.42124_-86.84642                     5.973414\n",
       "40.43134_-86.53464                    11.226047\n",
       "40.48079_-87.20682                     6.290135\n",
       "40.4869749155437_-87.4914180859923    11.720362\n",
       "40.51432_-86.45856                    10.181839\n",
       "40.53722_-86.95342                    11.794791\n",
       "40.5485_-87.12477                     10.516033\n",
       "40.58629_-87.43654                    11.681777\n",
       "40.59057_-86.39155                    10.055651\n",
       "40.70178_-86.70649                     9.843719\n",
       "40.78049_-86.89576                    10.852191\n",
       "40.84436_-86.18173                    10.285053\n",
       "40.93894_-86.47418                     9.944437\n",
       "40.9700622558594_-86.9013715815608    11.544695\n",
       "40.97061_-86.35304                    10.564448\n",
       "40.98224_-86.38542                    10.964359\n",
       "41.01865_-86.7101                      8.975526\n",
       "Name: wind_gust_speed_mph, dtype: float64"
      ]
     },
     "execution_count": 4,
     "metadata": {},
     "output_type": "execute_result"
    }
   ],
   "source": [
    "# calling the function\n",
    "file_location = \"/anvil/projects/tdm/data/whin/weather.csv\"\n",
    "avg__wind_gust_speed_mph_by_location(file_location)"
   ]
  },
  {
   "cell_type": "markdown",
   "id": "9fbf00fb-2418-460f-ae94-2a32b0c28952",
   "metadata": {},
   "source": [
    "Markdown notes and sentences and analysis written here."
   ]
  },
  {
   "cell_type": "markdown",
   "id": "f76442d6-d02e-4f26-b9d6-c3183e1d6929",
   "metadata": {},
   "source": [
    "## Pledge\n",
    "\n",
    "By submitting this work I hereby pledge that this is my own, personal work. I've acknowledged in the designated place at the top of this file all sources that I used to complete said work, including but not limited to: online resources, books, and electronic communications. I've noted all collaboration with fellow students and/or TA's. I did not copy or plagiarize another's work.\n",
    "\n",
    "> As a Boilermaker pursuing academic excellence, I pledge to be honest and true in all that I do. Accountable together – We are Purdue."
   ]
  }
 ],
 "metadata": {
  "kernelspec": {
   "display_name": "seminar",
   "language": "python",
   "name": "seminar"
  },
  "language_info": {
   "codemirror_mode": {
    "name": "ipython",
    "version": 3
   },
   "file_extension": ".py",
   "mimetype": "text/x-python",
   "name": "python",
   "nbconvert_exporter": "python",
   "pygments_lexer": "ipython3",
   "version": "3.11.5"
  }
 },
 "nbformat": 4,
 "nbformat_minor": 5
}
