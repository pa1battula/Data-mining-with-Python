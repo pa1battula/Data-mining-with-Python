{
 "cells": [
  {
   "cell_type": "markdown",
   "id": "be02a957-7133-4d02-818e-fedeb3cecb05",
   "metadata": {},
   "source": [
    "# Project 06 -- [Pavan Kumar] [Battula]"
   ]
  },
  {
   "cell_type": "markdown",
   "id": "a1228853-dd19-4ab2-89e0-0394d7d72de3",
   "metadata": {},
   "source": [
    "**TA Help:** N/A\n",
    "\n",
    "- Help with figuring out how to write a function.\n",
    "    \n",
    "**Collaboration:** N/A\n",
    "    \n",
    "- Helped figuring out how to load the dataset.\n",
    "- Helped debug error with my plot."
   ]
  },
  {
   "cell_type": "markdown",
   "id": "6180e742-8e39-4698-98ff-5b00c8cf8ea0",
   "metadata": {},
   "source": [
    "## Question 1"
   ]
  },
  {
   "cell_type": "code",
   "execution_count": 1,
   "id": "0666fb66-323f-46cd-a9fe-4ce06e1d9f7f",
   "metadata": {},
   "outputs": [],
   "source": [
    "import pandas as pd"
   ]
  },
  {
   "cell_type": "code",
   "execution_count": 2,
   "id": "a7778b10-054f-401c-bc0f-ba8cec9e6f66",
   "metadata": {},
   "outputs": [],
   "source": [
    "myyear= 1984"
   ]
  },
  {
   "cell_type": "code",
   "execution_count": 3,
   "id": "642e4d51-b393-47ca-ac78-c44892362348",
   "metadata": {},
   "outputs": [],
   "source": [
    "myfilepath=f'/anvil/projects/tdm/data/election/itcont{myyear}.txt'\n",
    "mycolumnnames=[\"CMTE_ID\",\"AMNDT_IND\",\"RPT_TP\",\"TRANSACTION_PGI\",\"IMAGE_NUM\",\"TRANSACTION_TP\",\"ENTITY_TP\",\"NAME\",\"CITY\",\"STATE\",\"ZIP_CODE\",\"EMPLOYER\",\"OCCUPATION\",\"TRANSACTION_DT\",\"TRANSACTION_AMT\",\"OTHER_ID\",\"TRAN_ID\",\"FILE_NUM\",\"MEMO_CD\",\"MEMO_TEXT\",\"SUB_ID\"]\n",
    "mydictionarytypes = {\"CMTE_ID\": str, \"AMNDT_IND\": str, \"RPT_TP\": str, \"TRANSACTION_PGI\": str, \"IMAGE_NUM\": str, \"TRANSACTION_TP\": str, \"ENTITY_TP\": str, \"NAME\": str, \"CITY\": str, \"STATE\": str, \"ZIP_CODE\": str, \"EMPLOYER\": str, \"OCCUPATION\": str, \"TRANSACTION_DT\": str, \"TRANSACTION_AMT\": float, \"OTHER_ID\": str, \"TRAN_ID\": str, \"FILE_NUM\": str, \"MEMO_CD\": str, \"MEMO_TEXT\": str, \"SUB_ID\": int}"
   ]
  },
  {
   "cell_type": "code",
   "execution_count": 4,
   "id": "69689c97-d176-4507-ade8-44a5f8354785",
   "metadata": {},
   "outputs": [
    {
     "data": {
      "text/html": [
       "<div>\n",
       "<style scoped>\n",
       "    .dataframe tbody tr th:only-of-type {\n",
       "        vertical-align: middle;\n",
       "    }\n",
       "\n",
       "    .dataframe tbody tr th {\n",
       "        vertical-align: top;\n",
       "    }\n",
       "\n",
       "    .dataframe thead th {\n",
       "        text-align: right;\n",
       "    }\n",
       "</style>\n",
       "<table border=\"1\" class=\"dataframe\">\n",
       "  <thead>\n",
       "    <tr style=\"text-align: right;\">\n",
       "      <th></th>\n",
       "      <th>CMTE_ID</th>\n",
       "      <th>AMNDT_IND</th>\n",
       "      <th>RPT_TP</th>\n",
       "      <th>TRANSACTION_PGI</th>\n",
       "      <th>IMAGE_NUM</th>\n",
       "      <th>TRANSACTION_TP</th>\n",
       "      <th>ENTITY_TP</th>\n",
       "      <th>NAME</th>\n",
       "      <th>CITY</th>\n",
       "      <th>STATE</th>\n",
       "      <th>...</th>\n",
       "      <th>EMPLOYER</th>\n",
       "      <th>OCCUPATION</th>\n",
       "      <th>TRANSACTION_DT</th>\n",
       "      <th>TRANSACTION_AMT</th>\n",
       "      <th>OTHER_ID</th>\n",
       "      <th>TRAN_ID</th>\n",
       "      <th>FILE_NUM</th>\n",
       "      <th>MEMO_CD</th>\n",
       "      <th>MEMO_TEXT</th>\n",
       "      <th>SUB_ID</th>\n",
       "    </tr>\n",
       "  </thead>\n",
       "  <tbody>\n",
       "    <tr>\n",
       "      <th>0</th>\n",
       "      <td>C00146845</td>\n",
       "      <td>N</td>\n",
       "      <td>MY</td>\n",
       "      <td>NaN</td>\n",
       "      <td>83012471866</td>\n",
       "      <td>15</td>\n",
       "      <td>NaN</td>\n",
       "      <td>ANDREWS, STEPHEN K</td>\n",
       "      <td>INDPLS</td>\n",
       "      <td>IN</td>\n",
       "      <td>...</td>\n",
       "      <td>ATTORNEY</td>\n",
       "      <td>NaN</td>\n",
       "      <td>1983-02-28</td>\n",
       "      <td>500.0</td>\n",
       "      <td>NaN</td>\n",
       "      <td>NaN</td>\n",
       "      <td>NaN</td>\n",
       "      <td>NaN</td>\n",
       "      <td>NaN</td>\n",
       "      <td>3061920110001124709</td>\n",
       "    </tr>\n",
       "    <tr>\n",
       "      <th>1</th>\n",
       "      <td>C00167973</td>\n",
       "      <td>A</td>\n",
       "      <td>MY</td>\n",
       "      <td>NaN</td>\n",
       "      <td>83012481756</td>\n",
       "      <td>15</td>\n",
       "      <td>NaN</td>\n",
       "      <td>ZARO, CHRISTOPHER</td>\n",
       "      <td>WAYNE</td>\n",
       "      <td>PA</td>\n",
       "      <td>...</td>\n",
       "      <td>REAL ESTATE DEVELOPER</td>\n",
       "      <td>NaN</td>\n",
       "      <td>1983-01-28</td>\n",
       "      <td>500.0</td>\n",
       "      <td>NaN</td>\n",
       "      <td>NaN</td>\n",
       "      <td>NaN</td>\n",
       "      <td>NaN</td>\n",
       "      <td>NaN</td>\n",
       "      <td>3061920110001112098</td>\n",
       "    </tr>\n",
       "  </tbody>\n",
       "</table>\n",
       "<p>2 rows × 21 columns</p>\n",
       "</div>"
      ],
      "text/plain": [
       "     CMTE_ID AMNDT_IND RPT_TP TRANSACTION_PGI    IMAGE_NUM TRANSACTION_TP  \\\n",
       "0  C00146845         N     MY             NaN  83012471866             15   \n",
       "1  C00167973         A     MY             NaN  83012481756             15   \n",
       "\n",
       "  ENTITY_TP                NAME    CITY STATE  ...               EMPLOYER  \\\n",
       "0       NaN  ANDREWS, STEPHEN K  INDPLS    IN  ...               ATTORNEY   \n",
       "1       NaN   ZARO, CHRISTOPHER   WAYNE    PA  ...  REAL ESTATE DEVELOPER   \n",
       "\n",
       "  OCCUPATION TRANSACTION_DT TRANSACTION_AMT  OTHER_ID TRAN_ID FILE_NUM  \\\n",
       "0        NaN     1983-02-28           500.0       NaN     NaN      NaN   \n",
       "1        NaN     1983-01-28           500.0       NaN     NaN      NaN   \n",
       "\n",
       "  MEMO_CD MEMO_TEXT               SUB_ID  \n",
       "0     NaN       NaN  3061920110001124709  \n",
       "1     NaN       NaN  3061920110001112098  \n",
       "\n",
       "[2 rows x 21 columns]"
      ]
     },
     "execution_count": 4,
     "metadata": {},
     "output_type": "execute_result"
    }
   ],
   "source": [
    "myDF = pd.read_csv(myfilepath, delimiter='|', names=mycolumnnames, dtype=mydictionarytypes)\n",
    "myDF['TRANSACTION_DT'] = pd.to_datetime(myDF['TRANSACTION_DT'], format=\"%m%d%Y\")\n",
    "myDF.head(2)"
   ]
  },
  {
   "cell_type": "code",
   "execution_count": 5,
   "id": "78ca2b1d-fad3-4ed2-8d47-e8c0a02b79f5",
   "metadata": {},
   "outputs": [
    {
     "data": {
      "text/plain": [
       "\"returns the election year's data set or information\\n   myDF pd.dataframe\\n\""
      ]
     },
     "execution_count": 5,
     "metadata": {},
     "output_type": "execute_result"
    }
   ],
   "source": [
    "\"\"\" function to read election-year's head data\n",
    " it takes the input a election year value\n",
    " my_ele_year is integer value\n",
    "\"\"\"\n",
    "def read_election_year (my_ele_year):\n",
    "    myyear= my_ele_year;\n",
    "    myfilepath=f'/anvil/projects/tdm/data/election/itcont{myyear}.txt'\n",
    "    mycolumnnames=[\"CMTE_ID\",\"AMNDT_IND\",\"RPT_TP\",\"TRANSACTION_PGI\",\"IMAGE_NUM\",\"TRANSACTION_TP\",\"ENTITY_TP\",\"NAME\",\"CITY\",\"STATE\",\"ZIP_CODE\",\"EMPLOYER\",\"OCCUPATION\",\"TRANSACTION_DT\",\"TRANSACTION_AMT\",\"OTHER_ID\",\"TRAN_ID\",\"FILE_NUM\",\"MEMO_CD\",\"MEMO_TEXT\",\"SUB_ID\"]\n",
    "    mydictionarytypes = {\"CMTE_ID\": str, \"AMNDT_IND\": str, \"RPT_TP\": str, \"TRANSACTION_PGI\": str, \"IMAGE_NUM\": str, \"TRANSACTION_TP\": str, \"ENTITY_TP\": str, \"NAME\": str, \"CITY\": str, \"STATE\": str, \"ZIP_CODE\": str, \"EMPLOYER\": str, \"OCCUPATION\": str, \"TRANSACTION_DT\": str, \n",
    "                         \"TRANSACTION_AMT\": float, \"OTHER_ID\": str, \"TRAN_ID\": str, \"FILE_NUM\": str, \"MEMO_CD\": str, \"MEMO_TEXT\": str, \"SUB_ID\": int}\n",
    "    myDF = pd.read_csv(myfilepath, delimiter='|', names=mycolumnnames, dtype=mydictionarytypes)\n",
    "    myDF['TRANSACTION_DT'] = pd.to_datetime(myDF['TRANSACTION_DT'], format=\"%m%d%Y\")\n",
    "    return myDF\n",
    "\"\"\"returns the election year's data set or information\n",
    "   myDF pd.dataframe\n",
    "\"\"\""
   ]
  },
  {
   "cell_type": "code",
   "execution_count": 6,
   "id": "611ab5be-93e8-498e-a55e-dffa92e614c5",
   "metadata": {},
   "outputs": [
    {
     "data": {
      "text/html": [
       "<div>\n",
       "<style scoped>\n",
       "    .dataframe tbody tr th:only-of-type {\n",
       "        vertical-align: middle;\n",
       "    }\n",
       "\n",
       "    .dataframe tbody tr th {\n",
       "        vertical-align: top;\n",
       "    }\n",
       "\n",
       "    .dataframe thead th {\n",
       "        text-align: right;\n",
       "    }\n",
       "</style>\n",
       "<table border=\"1\" class=\"dataframe\">\n",
       "  <thead>\n",
       "    <tr style=\"text-align: right;\">\n",
       "      <th></th>\n",
       "      <th>CMTE_ID</th>\n",
       "      <th>AMNDT_IND</th>\n",
       "      <th>RPT_TP</th>\n",
       "      <th>TRANSACTION_PGI</th>\n",
       "      <th>IMAGE_NUM</th>\n",
       "      <th>TRANSACTION_TP</th>\n",
       "      <th>ENTITY_TP</th>\n",
       "      <th>NAME</th>\n",
       "      <th>CITY</th>\n",
       "      <th>STATE</th>\n",
       "      <th>...</th>\n",
       "      <th>EMPLOYER</th>\n",
       "      <th>OCCUPATION</th>\n",
       "      <th>TRANSACTION_DT</th>\n",
       "      <th>TRANSACTION_AMT</th>\n",
       "      <th>OTHER_ID</th>\n",
       "      <th>TRAN_ID</th>\n",
       "      <th>FILE_NUM</th>\n",
       "      <th>MEMO_CD</th>\n",
       "      <th>MEMO_TEXT</th>\n",
       "      <th>SUB_ID</th>\n",
       "    </tr>\n",
       "  </thead>\n",
       "  <tbody>\n",
       "    <tr>\n",
       "      <th>0</th>\n",
       "      <td>C00078279</td>\n",
       "      <td>A</td>\n",
       "      <td>M11</td>\n",
       "      <td>P</td>\n",
       "      <td>80031492155</td>\n",
       "      <td>22Y</td>\n",
       "      <td>NaN</td>\n",
       "      <td>MCKENNON, K R</td>\n",
       "      <td>MIDLAND</td>\n",
       "      <td>MI</td>\n",
       "      <td>...</td>\n",
       "      <td>NaN</td>\n",
       "      <td>NaN</td>\n",
       "      <td>1979-10-03</td>\n",
       "      <td>400.0</td>\n",
       "      <td>NaN</td>\n",
       "      <td>NaN</td>\n",
       "      <td>NaN</td>\n",
       "      <td>NaN</td>\n",
       "      <td>CONTRIBUTION REF TO INDIVIDUAL</td>\n",
       "      <td>3062020110011466469</td>\n",
       "    </tr>\n",
       "    <tr>\n",
       "      <th>1</th>\n",
       "      <td>C00078279</td>\n",
       "      <td>A</td>\n",
       "      <td>M11</td>\n",
       "      <td>NaN</td>\n",
       "      <td>79031415137</td>\n",
       "      <td>15</td>\n",
       "      <td>NaN</td>\n",
       "      <td>OREFFICE, P</td>\n",
       "      <td>MIDLAND</td>\n",
       "      <td>MI</td>\n",
       "      <td>...</td>\n",
       "      <td>DOW CHEMICAL CO</td>\n",
       "      <td>NaN</td>\n",
       "      <td>1979-10-26</td>\n",
       "      <td>1500.0</td>\n",
       "      <td>NaN</td>\n",
       "      <td>NaN</td>\n",
       "      <td>NaN</td>\n",
       "      <td>NaN</td>\n",
       "      <td>NaN</td>\n",
       "      <td>3061920110000382948</td>\n",
       "    </tr>\n",
       "    <tr>\n",
       "      <th>2</th>\n",
       "      <td>C00078279</td>\n",
       "      <td>A</td>\n",
       "      <td>M11</td>\n",
       "      <td>NaN</td>\n",
       "      <td>79031415137</td>\n",
       "      <td>15</td>\n",
       "      <td>NaN</td>\n",
       "      <td>DOWNEY, J</td>\n",
       "      <td>MIDLAND</td>\n",
       "      <td>MI</td>\n",
       "      <td>...</td>\n",
       "      <td>DOW CHEMICAL CO</td>\n",
       "      <td>NaN</td>\n",
       "      <td>1979-10-26</td>\n",
       "      <td>300.0</td>\n",
       "      <td>NaN</td>\n",
       "      <td>NaN</td>\n",
       "      <td>NaN</td>\n",
       "      <td>NaN</td>\n",
       "      <td>NaN</td>\n",
       "      <td>3061920110000382949</td>\n",
       "    </tr>\n",
       "    <tr>\n",
       "      <th>3</th>\n",
       "      <td>C00078279</td>\n",
       "      <td>A</td>\n",
       "      <td>M11</td>\n",
       "      <td>NaN</td>\n",
       "      <td>79031415137</td>\n",
       "      <td>15</td>\n",
       "      <td>NaN</td>\n",
       "      <td>BLAIR, E</td>\n",
       "      <td>MIDLAND</td>\n",
       "      <td>MI</td>\n",
       "      <td>...</td>\n",
       "      <td>DOW CHEMICAL CO</td>\n",
       "      <td>NaN</td>\n",
       "      <td>1979-10-26</td>\n",
       "      <td>1000.0</td>\n",
       "      <td>NaN</td>\n",
       "      <td>NaN</td>\n",
       "      <td>NaN</td>\n",
       "      <td>NaN</td>\n",
       "      <td>NaN</td>\n",
       "      <td>3061920110000382950</td>\n",
       "    </tr>\n",
       "    <tr>\n",
       "      <th>4</th>\n",
       "      <td>C00078287</td>\n",
       "      <td>A</td>\n",
       "      <td>Q1</td>\n",
       "      <td>NaN</td>\n",
       "      <td>79031231889</td>\n",
       "      <td>15</td>\n",
       "      <td>NaN</td>\n",
       "      <td>BLANCHARD, JOHN A</td>\n",
       "      <td>CHICAGO</td>\n",
       "      <td>IL</td>\n",
       "      <td>...</td>\n",
       "      <td>NaN</td>\n",
       "      <td>NaN</td>\n",
       "      <td>1979-03-20</td>\n",
       "      <td>200.0</td>\n",
       "      <td>NaN</td>\n",
       "      <td>NaN</td>\n",
       "      <td>NaN</td>\n",
       "      <td>NaN</td>\n",
       "      <td>NaN</td>\n",
       "      <td>3061920110000383914</td>\n",
       "    </tr>\n",
       "    <tr>\n",
       "      <th>...</th>\n",
       "      <td>...</td>\n",
       "      <td>...</td>\n",
       "      <td>...</td>\n",
       "      <td>...</td>\n",
       "      <td>...</td>\n",
       "      <td>...</td>\n",
       "      <td>...</td>\n",
       "      <td>...</td>\n",
       "      <td>...</td>\n",
       "      <td>...</td>\n",
       "      <td>...</td>\n",
       "      <td>...</td>\n",
       "      <td>...</td>\n",
       "      <td>...</td>\n",
       "      <td>...</td>\n",
       "      <td>...</td>\n",
       "      <td>...</td>\n",
       "      <td>...</td>\n",
       "      <td>...</td>\n",
       "      <td>...</td>\n",
       "      <td>...</td>\n",
       "    </tr>\n",
       "    <tr>\n",
       "      <th>308691</th>\n",
       "      <td>C99003063</td>\n",
       "      <td>N</td>\n",
       "      <td>YE</td>\n",
       "      <td>NaN</td>\n",
       "      <td>81031902915</td>\n",
       "      <td>15</td>\n",
       "      <td>NaN</td>\n",
       "      <td>PLEMAN, THOMAS J</td>\n",
       "      <td>WESTLAKE ISLAND</td>\n",
       "      <td>CA</td>\n",
       "      <td>...</td>\n",
       "      <td>STUDENT</td>\n",
       "      <td>NaN</td>\n",
       "      <td>1980-10-17</td>\n",
       "      <td>500.0</td>\n",
       "      <td>NaN</td>\n",
       "      <td>NaN</td>\n",
       "      <td>NaN</td>\n",
       "      <td>NaN</td>\n",
       "      <td>NaN</td>\n",
       "      <td>3061920110000777082</td>\n",
       "    </tr>\n",
       "    <tr>\n",
       "      <th>308692</th>\n",
       "      <td>C99003063</td>\n",
       "      <td>N</td>\n",
       "      <td>YE</td>\n",
       "      <td>NaN</td>\n",
       "      <td>81031902915</td>\n",
       "      <td>15</td>\n",
       "      <td>NaN</td>\n",
       "      <td>SHEINBAUM, STANLEY</td>\n",
       "      <td>LOS ANGELES</td>\n",
       "      <td>CA</td>\n",
       "      <td>...</td>\n",
       "      <td>ECONOMIST</td>\n",
       "      <td>NaN</td>\n",
       "      <td>1980-10-16</td>\n",
       "      <td>500.0</td>\n",
       "      <td>NaN</td>\n",
       "      <td>NaN</td>\n",
       "      <td>NaN</td>\n",
       "      <td>NaN</td>\n",
       "      <td>NaN</td>\n",
       "      <td>3061920110000777083</td>\n",
       "    </tr>\n",
       "    <tr>\n",
       "      <th>308693</th>\n",
       "      <td>C00144170</td>\n",
       "      <td>N</td>\n",
       "      <td>YE</td>\n",
       "      <td>NaN</td>\n",
       "      <td>83032835154</td>\n",
       "      <td>15</td>\n",
       "      <td>NaN</td>\n",
       "      <td>PHILLIPS, LEONARD</td>\n",
       "      <td>SHREVEPORT</td>\n",
       "      <td>LA</td>\n",
       "      <td>...</td>\n",
       "      <td>SKLAR &amp; PHILLIPS OIL CO</td>\n",
       "      <td>NaN</td>\n",
       "      <td>1981-10-09</td>\n",
       "      <td>500.0</td>\n",
       "      <td>NaN</td>\n",
       "      <td>NaN</td>\n",
       "      <td>NaN</td>\n",
       "      <td>NaN</td>\n",
       "      <td>NaN</td>\n",
       "      <td>3061920110000579479</td>\n",
       "    </tr>\n",
       "    <tr>\n",
       "      <th>308694</th>\n",
       "      <td>C00144170</td>\n",
       "      <td>N</td>\n",
       "      <td>YE</td>\n",
       "      <td>NaN</td>\n",
       "      <td>83032835154</td>\n",
       "      <td>15</td>\n",
       "      <td>NaN</td>\n",
       "      <td>PHILLIPS, BETTY S</td>\n",
       "      <td>SHREVEPORT</td>\n",
       "      <td>LA</td>\n",
       "      <td>...</td>\n",
       "      <td>HOUSEWIFE</td>\n",
       "      <td>NaN</td>\n",
       "      <td>1981-10-09</td>\n",
       "      <td>500.0</td>\n",
       "      <td>NaN</td>\n",
       "      <td>NaN</td>\n",
       "      <td>NaN</td>\n",
       "      <td>NaN</td>\n",
       "      <td>NaN</td>\n",
       "      <td>3061920110000579480</td>\n",
       "    </tr>\n",
       "    <tr>\n",
       "      <th>308695</th>\n",
       "      <td>C00109637</td>\n",
       "      <td>N</td>\n",
       "      <td>YE</td>\n",
       "      <td>NaN</td>\n",
       "      <td>81020013947</td>\n",
       "      <td>15</td>\n",
       "      <td>NaN</td>\n",
       "      <td>STUART, HAROLD MRS</td>\n",
       "      <td>TULSA</td>\n",
       "      <td>OK</td>\n",
       "      <td>...</td>\n",
       "      <td>HOUSEWIFE</td>\n",
       "      <td>NaN</td>\n",
       "      <td>1980-12-09</td>\n",
       "      <td>500.0</td>\n",
       "      <td>NaN</td>\n",
       "      <td>NaN</td>\n",
       "      <td>NaN</td>\n",
       "      <td>NaN</td>\n",
       "      <td>NaN</td>\n",
       "      <td>3061920110000674036</td>\n",
       "    </tr>\n",
       "  </tbody>\n",
       "</table>\n",
       "<p>308696 rows × 21 columns</p>\n",
       "</div>"
      ],
      "text/plain": [
       "          CMTE_ID AMNDT_IND RPT_TP TRANSACTION_PGI    IMAGE_NUM  \\\n",
       "0       C00078279         A    M11               P  80031492155   \n",
       "1       C00078279         A    M11             NaN  79031415137   \n",
       "2       C00078279         A    M11             NaN  79031415137   \n",
       "3       C00078279         A    M11             NaN  79031415137   \n",
       "4       C00078287         A     Q1             NaN  79031231889   \n",
       "...           ...       ...    ...             ...          ...   \n",
       "308691  C99003063         N     YE             NaN  81031902915   \n",
       "308692  C99003063         N     YE             NaN  81031902915   \n",
       "308693  C00144170         N     YE             NaN  83032835154   \n",
       "308694  C00144170         N     YE             NaN  83032835154   \n",
       "308695  C00109637         N     YE             NaN  81020013947   \n",
       "\n",
       "       TRANSACTION_TP ENTITY_TP                NAME             CITY STATE  \\\n",
       "0                 22Y       NaN       MCKENNON, K R          MIDLAND    MI   \n",
       "1                  15       NaN         OREFFICE, P          MIDLAND    MI   \n",
       "2                  15       NaN           DOWNEY, J          MIDLAND    MI   \n",
       "3                  15       NaN            BLAIR, E          MIDLAND    MI   \n",
       "4                  15       NaN   BLANCHARD, JOHN A          CHICAGO    IL   \n",
       "...               ...       ...                 ...              ...   ...   \n",
       "308691             15       NaN    PLEMAN, THOMAS J  WESTLAKE ISLAND    CA   \n",
       "308692             15       NaN  SHEINBAUM, STANLEY      LOS ANGELES    CA   \n",
       "308693             15       NaN   PHILLIPS, LEONARD       SHREVEPORT    LA   \n",
       "308694             15       NaN   PHILLIPS, BETTY S       SHREVEPORT    LA   \n",
       "308695             15       NaN  STUART, HAROLD MRS            TULSA    OK   \n",
       "\n",
       "        ...                 EMPLOYER OCCUPATION TRANSACTION_DT  \\\n",
       "0       ...                      NaN        NaN     1979-10-03   \n",
       "1       ...          DOW CHEMICAL CO        NaN     1979-10-26   \n",
       "2       ...          DOW CHEMICAL CO        NaN     1979-10-26   \n",
       "3       ...          DOW CHEMICAL CO        NaN     1979-10-26   \n",
       "4       ...                      NaN        NaN     1979-03-20   \n",
       "...     ...                      ...        ...            ...   \n",
       "308691  ...                  STUDENT        NaN     1980-10-17   \n",
       "308692  ...                ECONOMIST        NaN     1980-10-16   \n",
       "308693  ...  SKLAR & PHILLIPS OIL CO        NaN     1981-10-09   \n",
       "308694  ...                HOUSEWIFE        NaN     1981-10-09   \n",
       "308695  ...                HOUSEWIFE        NaN     1980-12-09   \n",
       "\n",
       "       TRANSACTION_AMT  OTHER_ID TRAN_ID FILE_NUM MEMO_CD  \\\n",
       "0                400.0       NaN     NaN      NaN     NaN   \n",
       "1               1500.0       NaN     NaN      NaN     NaN   \n",
       "2                300.0       NaN     NaN      NaN     NaN   \n",
       "3               1000.0       NaN     NaN      NaN     NaN   \n",
       "4                200.0       NaN     NaN      NaN     NaN   \n",
       "...                ...       ...     ...      ...     ...   \n",
       "308691           500.0       NaN     NaN      NaN     NaN   \n",
       "308692           500.0       NaN     NaN      NaN     NaN   \n",
       "308693           500.0       NaN     NaN      NaN     NaN   \n",
       "308694           500.0       NaN     NaN      NaN     NaN   \n",
       "308695           500.0       NaN     NaN      NaN     NaN   \n",
       "\n",
       "                             MEMO_TEXT               SUB_ID  \n",
       "0       CONTRIBUTION REF TO INDIVIDUAL  3062020110011466469  \n",
       "1                                  NaN  3061920110000382948  \n",
       "2                                  NaN  3061920110000382949  \n",
       "3                                  NaN  3061920110000382950  \n",
       "4                                  NaN  3061920110000383914  \n",
       "...                                ...                  ...  \n",
       "308691                             NaN  3061920110000777082  \n",
       "308692                             NaN  3061920110000777083  \n",
       "308693                             NaN  3061920110000579479  \n",
       "308694                             NaN  3061920110000579480  \n",
       "308695                             NaN  3061920110000674036  \n",
       "\n",
       "[308696 rows x 21 columns]"
      ]
     },
     "execution_count": 6,
     "metadata": {},
     "output_type": "execute_result"
    }
   ],
   "source": [
    " read_election_year(1980)  # Call th function for each year"
   ]
  },
  {
   "cell_type": "markdown",
   "id": "b456e57c-4a12-464b-999a-ef2df5af80c1",
   "metadata": {},
   "source": [
    "Markdown notes and sentences and analysis written here."
   ]
  },
  {
   "cell_type": "markdown",
   "id": "fc601975-35ed-4680-a4e1-0273ee3cc047",
   "metadata": {},
   "source": [
    "## Question 2"
   ]
  },
  {
   "cell_type": "code",
   "execution_count": 22,
   "id": "a16336a1-1ef0-41e8-bc7c-49387db27497",
   "metadata": {},
   "outputs": [
    {
     "data": {
      "text/plain": [
       "3995"
      ]
     },
     "execution_count": 22,
     "metadata": {},
     "output_type": "execute_result"
    }
   ],
   "source": [
    "myyear = 1988\n",
    "myDF=  read_election_year(myyear)\n",
    "len(myDF['CMTE_ID'].unique())"
   ]
  },
  {
   "cell_type": "code",
   "execution_count": 23,
   "id": "0b3d86e9-d766-4a51-92d8-cfc2b629b4d8",
   "metadata": {},
   "outputs": [
    {
     "data": {
      "text/plain": [
       "\"returns the election year's Unique  committees ID integer values\\n\""
      ]
     },
     "execution_count": 23,
     "metadata": {},
     "output_type": "execute_result"
    }
   ],
   "source": [
    "\"\"\" function to read election-year's data of Unique  committees ID\n",
    " it takes the input a election year value\n",
    " my_ele_year is integer value\n",
    "\"\"\"\n",
    "def committees_function (my_ele_year):\n",
    "    myyear= my_ele_year;\n",
    "    myDF=  read_election_year(myyear)\n",
    "    Unique = len(myDF['CMTE_ID'].unique())\n",
    "    return Unique\n",
    "\"\"\"returns the election year's Unique  committees ID integer values\n",
    "\"\"\""
   ]
  },
  {
   "cell_type": "code",
   "execution_count": 24,
   "id": "5eab2cb0-d729-4444-a9a0-64ece71b731f",
   "metadata": {},
   "outputs": [
    {
     "data": {
      "text/plain": [
       "3995"
      ]
     },
     "execution_count": 24,
     "metadata": {},
     "output_type": "execute_result"
    }
   ],
   "source": [
    "committees_function(1988)"
   ]
  },
  {
   "cell_type": "markdown",
   "id": "14dc22d4-ddc3-41cc-a91a-cb0025bc0c80",
   "metadata": {},
   "source": [
    "The outputs are same for the both."
   ]
  },
  {
   "cell_type": "markdown",
   "id": "8e586edd-ff26-4ce2-8f6b-2424b26f2929",
   "metadata": {},
   "source": [
    "## Question 3"
   ]
  },
  {
   "cell_type": "code",
   "execution_count": 20,
   "id": "bbe0f40d-9655-4653-9ca8-886bdb61cb91",
   "metadata": {},
   "outputs": [
    {
     "data": {
      "text/plain": [
       "STATE\n",
       "TU         250.0\n",
       "BE         750.0\n",
       "CZ         950.0\n",
       "EL        1000.0\n",
       "AS        1500.0\n",
       "         ...    \n",
       "IL     9105545.0\n",
       "FL    10514203.0\n",
       "NY    18673301.0\n",
       "CA    24085171.0\n",
       "TX    24472610.0\n",
       "Name: TRANSACTION_AMT, Length: 61, dtype: float64"
      ]
     },
     "execution_count": 20,
     "metadata": {},
     "output_type": "execute_result"
    }
   ],
   "source": [
    "myyear = 1980\n",
    "myDF=  read_election_year(myyear)\n",
    "myDF.groupby('STATE')['TRANSACTION_AMT'].sum().sort_values()"
   ]
  },
  {
   "cell_type": "code",
   "execution_count": 29,
   "id": "77291773-a865-4994-ac27-466421cc26a8",
   "metadata": {},
   "outputs": [
    {
     "data": {
      "text/plain": [
       "\"returns the election year's top_five_state\\n\""
      ]
     },
     "execution_count": 29,
     "metadata": {},
     "output_type": "execute_result"
    }
   ],
   "source": [
    "\"\"\" function to read election-year's data of top_five_states\n",
    " it takes the input a election year value\n",
    " my_ele_year is integer value\n",
    "\"\"\"\n",
    "def top_five_states (my_ele_year):\n",
    "    myyear = my_ele_year\n",
    "    myDF=  read_election_year(myyear)\n",
    "    top_5_state = myDF.groupby('STATE')['TRANSACTION_AMT'].sum().sort_values(ascending=False).head()\n",
    "    return top_5_state\n",
    "\"\"\"returns the election year's top_five_state transaction amount\n",
    "\"\"\""
   ]
  },
  {
   "cell_type": "code",
   "execution_count": 30,
   "id": "b65d25b3-0288-4c88-bd3a-23bfa2b4d02e",
   "metadata": {},
   "outputs": [
    {
     "data": {
      "text/plain": [
       "STATE\n",
       "TX    24472610.0\n",
       "CA    24085171.0\n",
       "NY    18673301.0\n",
       "FL    10514203.0\n",
       "IL     9105545.0\n",
       "Name: TRANSACTION_AMT, dtype: float64"
      ]
     },
     "execution_count": 30,
     "metadata": {},
     "output_type": "execute_result"
    }
   ],
   "source": [
    "top_five_states(1980)"
   ]
  },
  {
   "cell_type": "code",
   "execution_count": 33,
   "id": "7d70e315-60aa-485e-8caa-abc0bbade7e5",
   "metadata": {},
   "outputs": [
    {
     "data": {
      "text/plain": [
       "STATE\n",
       "CA    60239357.0\n",
       "NY    49898456.0\n",
       "TX    29076324.0\n",
       "FL    25373272.0\n",
       "NJ    18934575.0\n",
       "Name: TRANSACTION_AMT, dtype: float64"
      ]
     },
     "execution_count": 33,
     "metadata": {},
     "output_type": "execute_result"
    }
   ],
   "source": [
    "top_five_states(1988)"
   ]
  },
  {
   "cell_type": "markdown",
   "id": "47c6229f-35f7-400c-8366-c442baa5cf47",
   "metadata": {},
   "source": [
    "Markdown notes and sentences and analysis written here."
   ]
  },
  {
   "cell_type": "markdown",
   "id": "da22f29c-d245-4d2b-9fc1-ca14cb6087d9",
   "metadata": {},
   "source": [
    "## Question 4"
   ]
  },
  {
   "cell_type": "code",
   "execution_count": 37,
   "id": "8cffc767-d1c8-4d64-b7dc-f0d2ee8a80d1",
   "metadata": {},
   "outputs": [
    {
     "data": {
      "text/plain": [
       "EMPLOYER\n",
       "RETIRED       8565354.0\n",
       "ATTORNEY      5689870.0\n",
       "HOUSEWIFE     5457943.0\n",
       "HOMEMAKER     4649872.0\n",
       "HOUSE WIFE    4549216.0\n",
       "Name: TRANSACTION_AMT, dtype: float64"
      ]
     },
     "execution_count": 37,
     "metadata": {},
     "output_type": "execute_result"
    }
   ],
   "source": [
    "myyear = 1980\n",
    "myDF=  read_election_year(myyear)\n",
    "myDF.groupby('EMPLOYER')['TRANSACTION_AMT'].sum().sort_values(ascending=False).head()"
   ]
  },
  {
   "cell_type": "code",
   "execution_count": 39,
   "id": "7b0ecae2-d68d-427c-a361-9816edda1a09",
   "metadata": {},
   "outputs": [
    {
     "data": {
      "text/plain": [
       "\"returns the election year's top_5_employer transaction amount\\n\""
      ]
     },
     "execution_count": 39,
     "metadata": {},
     "output_type": "execute_result"
    }
   ],
   "source": [
    "\"\"\" function to read election-year's data of top_5_employer transaction amount\n",
    " it takes the input a election year value\n",
    " my_ele_year is integer value\n",
    "\"\"\"\n",
    "def top_employers (my_ele_year):\n",
    "    myyear = my_ele_year\n",
    "    myDF=  read_election_year(myyear)\n",
    "    top_5_employer = myDF.groupby('EMPLOYER')['TRANSACTION_AMT'].sum().sort_values(ascending=False).head()\n",
    "    return  top_5_employer\n",
    "\"\"\"returns the election year's top_5_employer transaction amount\n",
    "\"\"\""
   ]
  },
  {
   "cell_type": "code",
   "execution_count": 40,
   "id": "f30fe5a4-35f5-4eb8-878d-96ba9a0b4940",
   "metadata": {},
   "outputs": [
    {
     "data": {
      "text/plain": [
       "EMPLOYER\n",
       "RETIRED       8565354.0\n",
       "ATTORNEY      5689870.0\n",
       "HOUSEWIFE     5457943.0\n",
       "HOMEMAKER     4649872.0\n",
       "HOUSE WIFE    4549216.0\n",
       "Name: TRANSACTION_AMT, dtype: float64"
      ]
     },
     "execution_count": 40,
     "metadata": {},
     "output_type": "execute_result"
    }
   ],
   "source": [
    "top_employers(1980)"
   ]
  },
  {
   "cell_type": "code",
   "execution_count": 41,
   "id": "c5792fe5-b8e7-4aa1-bc20-491d191d9810",
   "metadata": {},
   "outputs": [
    {
     "data": {
      "text/plain": [
       "EMPLOYER\n",
       "HOUSEWIFE    14626839.0\n",
       "HOMEMAKER     9834325.0\n",
       "ATTORNEY      9488872.0\n",
       "RETIRED       5865073.0\n",
       "PHYSICIAN     3104940.0\n",
       "Name: TRANSACTION_AMT, dtype: float64"
      ]
     },
     "execution_count": 41,
     "metadata": {},
     "output_type": "execute_result"
    }
   ],
   "source": [
    "top_employers(1988)"
   ]
  },
  {
   "cell_type": "markdown",
   "id": "0d552245-b4d6-474a-9cc9-fa7b8e674d55",
   "metadata": {},
   "source": [
    "Markdown notes and sentences and analysis written here."
   ]
  },
  {
   "cell_type": "markdown",
   "id": "88c9cdac-3e92-498f-83fa-e089bfc44ac8",
   "metadata": {},
   "source": [
    "## Question 5"
   ]
  },
  {
   "cell_type": "code",
   "execution_count": 48,
   "id": "f5e0aa1f-514d-44f0-a5b5-cdb018f697de",
   "metadata": {},
   "outputs": [
    {
     "data": {
      "text/plain": [
       "count    432978.000000\n",
       "mean        961.175552\n",
       "std        2846.359481\n",
       "min      -20000.000000\n",
       "25%         500.000000\n",
       "50%        1000.000000\n",
       "75%        1000.000000\n",
       "max      700000.000000\n",
       "Name: TRANSACTION_AMT, dtype: float64"
      ]
     },
     "execution_count": 48,
     "metadata": {},
     "output_type": "execute_result"
    }
   ],
   "source": [
    "myyear = 1988\n",
    "myDF=  read_election_year(myyear)\n",
    "transaction_distribution = myDF['TRANSACTION_AMT'].describe()\n",
    "transaction_distribution"
   ]
  },
  {
   "cell_type": "code",
   "execution_count": 44,
   "id": "d370d7c9-06db-42b9-b75f-240481a5c491",
   "metadata": {},
   "outputs": [],
   "source": [
    "\"\"\" function to analyze election-year's data \n",
    " it takes the input a election year value\n",
    " my_ele_year is integer value\n",
    "\"\"\"\n",
    "\n",
    "def analyze_election_data(my_ele_year):\n",
    "    myyear = my_ele_year\n",
    "    myDF=  read_election_year(myyear)\n",
    "    \n",
    "    # Something interesting for the specified year\n",
    "    transaction_distribution = myDF['TRANSACTION_AMT'].describe()\n",
    "    \n",
    "    return(transaction_distribution)\n",
    "\"\"\"returns transaction_distribution which is analyztion of election_data \"\"\""
   ]
  },
  {
   "cell_type": "code",
   "execution_count": 46,
   "id": "a026bca0-655c-4d8d-8dc3-201fd9b1a5bc",
   "metadata": {},
   "outputs": [
    {
     "data": {
      "text/plain": [
       "count    432978.000000\n",
       "mean        961.175552\n",
       "std        2846.359481\n",
       "min      -20000.000000\n",
       "25%         500.000000\n",
       "50%        1000.000000\n",
       "75%        1000.000000\n",
       "max      700000.000000\n",
       "Name: TRANSACTION_AMT, dtype: float64"
      ]
     },
     "execution_count": 46,
     "metadata": {},
     "output_type": "execute_result"
    }
   ],
   "source": [
    "# Call the function for each year\n",
    "analyze_election_data(1988)"
   ]
  },
  {
   "cell_type": "markdown",
   "id": "9fbf00fb-2418-460f-ae94-2a32b0c28952",
   "metadata": {},
   "source": [
    "Markdown notes and sentences and analysis written here."
   ]
  },
  {
   "cell_type": "markdown",
   "id": "f76442d6-d02e-4f26-b9d6-c3183e1d6929",
   "metadata": {},
   "source": [
    "## Pledge\n",
    "\n",
    "By submitting this work I hereby pledge that this is my own, personal work. I've acknowledged in the designated place at the top of this file all sources that I used to complete said work, including but not limited to: online resources, books, and electronic communications. I've noted all collaboration with fellow students and/or TA's. I did not copy or plagiarize another's work.\n",
    "\n",
    "> As a Boilermaker pursuing academic excellence, I pledge to be honest and true in all that I do. Accountable together – We are Purdue."
   ]
  }
 ],
 "metadata": {
  "kernelspec": {
   "display_name": "seminar",
   "language": "python",
   "name": "seminar"
  },
  "language_info": {
   "codemirror_mode": {
    "name": "ipython",
    "version": 3
   },
   "file_extension": ".py",
   "mimetype": "text/x-python",
   "name": "python",
   "nbconvert_exporter": "python",
   "pygments_lexer": "ipython3",
   "version": "3.11.5"
  }
 },
 "nbformat": 4,
 "nbformat_minor": 5
}
