{
 "cells": [
  {
   "cell_type": "markdown",
   "id": "be02a957-7133-4d02-818e-fedeb3cecb05",
   "metadata": {},
   "source": [
    "# Project 11 -- [PavanKumar] [Battula]"
   ]
  },
  {
   "cell_type": "markdown",
   "id": "a1228853-dd19-4ab2-89e0-0394d7d72de3",
   "metadata": {},
   "source": [
    "**TA Help:** N/A\n",
    "\n",
    "- Help with figuring out how to write a function.\n",
    "    \n",
    "**Collaboration:** N/A\n",
    "    \n",
    "- Helped figuring out how to load the dataset.\n",
    "- Helped debug error with my plot."
   ]
  },
  {
   "cell_type": "markdown",
   "id": "6180e742-8e39-4698-98ff-5b00c8cf8ea0",
   "metadata": {},
   "source": [
    "## Question 1"
   ]
  },
  {
   "cell_type": "code",
   "execution_count": 2,
   "id": "49445606-d363-41b4-b479-e319a9a84c01",
   "metadata": {},
   "outputs": [],
   "source": [
    "class Flight:\n",
    "    \n",
    "    def __init__ (self, flight_number, origin_airport_ID, destination_airport_ID, departure_time, arrival_time, departure_delay, arrival_delay):\n",
    "        \n",
    "        self.flight_number = flight_number\n",
    "        self.origin_airport_ID = origin_airport_ID\n",
    "        self.destination_airport_ID = destination_airport_ID\n",
    "        self.departure_time = departure_time\n",
    "        self.arrival_time = arrival_time\n",
    "        self.departure_delay =  departure_delay\n",
    "        self.arrival_delay = arrival_delay\n",
    "        \n",
    "    def get_arrdelay(self):\n",
    "        return self.arrival_delay;"
   ]
  },
  {
   "cell_type": "markdown",
   "id": "fc601975-35ed-4680-a4e1-0273ee3cc047",
   "metadata": {},
   "source": [
    "## Question 2"
   ]
  },
  {
   "cell_type": "code",
   "execution_count": 3,
   "id": "c3fac6bb-b817-4af4-8217-08f2583d2502",
   "metadata": {},
   "outputs": [],
   "source": [
    "columns_to_read = [\n",
    "    'DepDelay', 'ArrDelay', 'Flight_Number_Reporting_Airline', 'Distance',\n",
    "    'CarrierDelay', 'WeatherDelay',\n",
    "    'DepTime', 'ArrTime', 'Origin',\n",
    "    'Dest', 'AirTime'\n",
    "]"
   ]
  },
  {
   "cell_type": "code",
   "execution_count": 4,
   "id": "b31c8581-95c5-4362-8041-1bb3ec30f663",
   "metadata": {},
   "outputs": [],
   "source": [
    "col_types = {\n",
    "    'Flight_Number_Reporting_Airline':'int64',\n",
    "    'Origin':'object',\n",
    "    'Dest':'object',\n",
    "    'DepTime':'float64',\n",
    "    'DepDelay': 'float64',\n",
    "    'ArrTime': 'float64',\n",
    "    'ArrDelay': 'float64',\n",
    "    'AirTime': 'float64',\n",
    "    'Distance': 'float64',\n",
    "    'CarrierDelay': 'float64',\n",
    "    'WeatherDelay': 'float64',\n",
    "    }"
   ]
  },
  {
   "cell_type": "code",
   "execution_count": 5,
   "id": "a16336a1-1ef0-41e8-bc7c-49387db27497",
   "metadata": {},
   "outputs": [],
   "source": [
    "import pandas as pd\n",
    "myDF = pd.read_csv(\"/anvil/projects/tdm/data/flights/2014.csv\", usecols=columns_to_read, dtype = col_types, nrows = 100)\n"
   ]
  },
  {
   "cell_type": "code",
   "execution_count": 6,
   "id": "cc821e56-55d6-4ae7-9408-80216395a22c",
   "metadata": {},
   "outputs": [
    {
     "data": {
      "text/html": [
       "<div>\n",
       "<style scoped>\n",
       "    .dataframe tbody tr th:only-of-type {\n",
       "        vertical-align: middle;\n",
       "    }\n",
       "\n",
       "    .dataframe tbody tr th {\n",
       "        vertical-align: top;\n",
       "    }\n",
       "\n",
       "    .dataframe thead th {\n",
       "        text-align: right;\n",
       "    }\n",
       "</style>\n",
       "<table border=\"1\" class=\"dataframe\">\n",
       "  <thead>\n",
       "    <tr style=\"text-align: right;\">\n",
       "      <th></th>\n",
       "      <th>Flight_Number_Reporting_Airline</th>\n",
       "      <th>Origin</th>\n",
       "      <th>Dest</th>\n",
       "      <th>DepTime</th>\n",
       "      <th>DepDelay</th>\n",
       "      <th>ArrTime</th>\n",
       "      <th>ArrDelay</th>\n",
       "      <th>AirTime</th>\n",
       "      <th>Distance</th>\n",
       "      <th>CarrierDelay</th>\n",
       "      <th>WeatherDelay</th>\n",
       "    </tr>\n",
       "  </thead>\n",
       "  <tbody>\n",
       "    <tr>\n",
       "      <th>0</th>\n",
       "      <td>2377</td>\n",
       "      <td>DFW</td>\n",
       "      <td>ICT</td>\n",
       "      <td>935.0</td>\n",
       "      <td>-5.0</td>\n",
       "      <td>1051.0</td>\n",
       "      <td>-4.0</td>\n",
       "      <td>56.0</td>\n",
       "      <td>328.0</td>\n",
       "      <td>NaN</td>\n",
       "      <td>NaN</td>\n",
       "    </tr>\n",
       "    <tr>\n",
       "      <th>1</th>\n",
       "      <td>2377</td>\n",
       "      <td>DFW</td>\n",
       "      <td>ICT</td>\n",
       "      <td>951.0</td>\n",
       "      <td>11.0</td>\n",
       "      <td>1115.0</td>\n",
       "      <td>20.0</td>\n",
       "      <td>54.0</td>\n",
       "      <td>328.0</td>\n",
       "      <td>11.0</td>\n",
       "      <td>0.0</td>\n",
       "    </tr>\n",
       "    <tr>\n",
       "      <th>2</th>\n",
       "      <td>2377</td>\n",
       "      <td>ICT</td>\n",
       "      <td>DFW</td>\n",
       "      <td>1144.0</td>\n",
       "      <td>9.0</td>\n",
       "      <td>1302.0</td>\n",
       "      <td>2.0</td>\n",
       "      <td>57.0</td>\n",
       "      <td>328.0</td>\n",
       "      <td>NaN</td>\n",
       "      <td>NaN</td>\n",
       "    </tr>\n",
       "    <tr>\n",
       "      <th>3</th>\n",
       "      <td>2377</td>\n",
       "      <td>ICT</td>\n",
       "      <td>DFW</td>\n",
       "      <td>1134.0</td>\n",
       "      <td>-1.0</td>\n",
       "      <td>1253.0</td>\n",
       "      <td>-7.0</td>\n",
       "      <td>53.0</td>\n",
       "      <td>328.0</td>\n",
       "      <td>NaN</td>\n",
       "      <td>NaN</td>\n",
       "    </tr>\n",
       "    <tr>\n",
       "      <th>4</th>\n",
       "      <td>2377</td>\n",
       "      <td>ICT</td>\n",
       "      <td>DFW</td>\n",
       "      <td>1129.0</td>\n",
       "      <td>-6.0</td>\n",
       "      <td>1244.0</td>\n",
       "      <td>-16.0</td>\n",
       "      <td>52.0</td>\n",
       "      <td>328.0</td>\n",
       "      <td>NaN</td>\n",
       "      <td>NaN</td>\n",
       "    </tr>\n",
       "  </tbody>\n",
       "</table>\n",
       "</div>"
      ],
      "text/plain": [
       "   Flight_Number_Reporting_Airline Origin Dest  DepTime  DepDelay  ArrTime  \\\n",
       "0                             2377    DFW  ICT    935.0      -5.0   1051.0   \n",
       "1                             2377    DFW  ICT    951.0      11.0   1115.0   \n",
       "2                             2377    ICT  DFW   1144.0       9.0   1302.0   \n",
       "3                             2377    ICT  DFW   1134.0      -1.0   1253.0   \n",
       "4                             2377    ICT  DFW   1129.0      -6.0   1244.0   \n",
       "\n",
       "   ArrDelay  AirTime  Distance  CarrierDelay  WeatherDelay  \n",
       "0      -4.0     56.0     328.0           NaN           NaN  \n",
       "1      20.0     54.0     328.0          11.0           0.0  \n",
       "2       2.0     57.0     328.0           NaN           NaN  \n",
       "3      -7.0     53.0     328.0           NaN           NaN  \n",
       "4     -16.0     52.0     328.0           NaN           NaN  "
      ]
     },
     "execution_count": 6,
     "metadata": {},
     "output_type": "execute_result"
    }
   ],
   "source": [
    "myDF.head()"
   ]
  },
  {
   "cell_type": "code",
   "execution_count": 28,
   "id": "dc39e7b8-04b1-4d93-a57b-ddf6f35409df",
   "metadata": {},
   "outputs": [],
   "source": [
    "longlist_of_flights = []\n",
    "for index, row in myDF.iterrows():\n",
    "    myflight = Flight (   \n",
    "    flight_number = row['Flight_Number_Reporting_Airline'],\n",
    "    origin_airport_ID = row['Origin'],\n",
    "    destination_airport_ID = row['Dest'],\n",
    "    departure_time = row['DepTime'],\n",
    "    arrival_time = row['ArrTime'],\n",
    "    departure_delay=  row['DepDelay'],\n",
    "    arrival_delay = row['ArrDelay']\n",
    "    \n",
    "    )\n",
    "    \n",
    "    longlist_of_flights.append(myflight)"
   ]
  },
  {
   "cell_type": "code",
   "execution_count": 29,
   "id": "2f1063f9-6351-4975-941d-7f5b316781f5",
   "metadata": {},
   "outputs": [
    {
     "data": {
      "text/plain": [
       "100"
      ]
     },
     "execution_count": 29,
     "metadata": {},
     "output_type": "execute_result"
    }
   ],
   "source": [
    "len(longlist_of_flights)"
   ]
  },
  {
   "cell_type": "markdown",
   "id": "8e586edd-ff26-4ce2-8f6b-2424b26f2929",
   "metadata": {},
   "source": [
    "## Question 3"
   ]
  },
  {
   "cell_type": "code",
   "execution_count": 9,
   "id": "bbe0f40d-9655-4653-9ca8-886bdb61cb91",
   "metadata": {},
   "outputs": [],
   "source": [
    "delays_dest = {}\n",
    "for myflight in longlist_of_flights:\n",
    "    if myflight.destination_airport_ID not in delays_dest:\n",
    "        delays_dest[myflight.destination_airport_ID] = []\n",
    "    delays_dest[myflight.destination_airport_ID].append(myflight.get_arrdelay())"
   ]
  },
  {
   "cell_type": "code",
   "execution_count": 10,
   "id": "20577422-4b6d-4993-8b08-d14bf8203b6c",
   "metadata": {},
   "outputs": [],
   "source": [
    "average_delays = {myairport: sum(mydelays)/len(mydelays) for myairport, mydelays in delays_dest.items()}"
   ]
  },
  {
   "cell_type": "code",
   "execution_count": 11,
   "id": "8dafca2f-b64d-484a-bf32-b59522ef3aeb",
   "metadata": {},
   "outputs": [
    {
     "data": {
      "text/plain": [
       "{'ICT': 8.0,\n",
       " 'DFW': 4.612903225806452,\n",
       " 'TPA': 9.0,\n",
       " 'OGG': -34.625,\n",
       " 'SJC': -10.333333333333334,\n",
       " 'KOA': -39.5,\n",
       " 'SMF': -8.0,\n",
       " 'SEA': -14.777777777777779,\n",
       " 'PDX': -25.0,\n",
       " 'OAK': -17.5,\n",
       " 'HNL': -28.714285714285715,\n",
       " 'SAN': -12.0,\n",
       " 'ANC': -27.0,\n",
       " 'LIH': -41.0,\n",
       " 'BLI': -18.0,\n",
       " 'DCA': -22.0}"
      ]
     },
     "execution_count": 11,
     "metadata": {},
     "output_type": "execute_result"
    }
   ],
   "source": [
    "average_delays"
   ]
  },
  {
   "cell_type": "markdown",
   "id": "da22f29c-d245-4d2b-9fc1-ca14cb6087d9",
   "metadata": {},
   "source": [
    "## Question 4"
   ]
  },
  {
   "cell_type": "code",
   "execution_count": 13,
   "id": "8cffc767-d1c8-4d64-b7dc-f0d2ee8a80d1",
   "metadata": {},
   "outputs": [],
   "source": [
    "def arr_avg_delays(myflightlist):\n",
    "    \n",
    "    delays_dest = {}\n",
    "    \n",
    "    for myflight in myflightlist:\n",
    "        if myflight.destination_airport_ID not in delays_dest:\n",
    "            delays_dest[myflight.destination_airport_ID] = []\n",
    "        delays_dest[myflight.destination_airport_ID].append(myflight.get_arrdelay())\n",
    "    average_delays = {myairport: sum(mydelays)/len(mydelays) for myairport, mydelays in delays_dest.items()}  \n",
    "    return average_delays"
   ]
  },
  {
   "cell_type": "code",
   "execution_count": 14,
   "id": "2caab903-c778-472b-b68c-3b956729780b",
   "metadata": {},
   "outputs": [
    {
     "data": {
      "text/plain": [
       "{'ICT': 8.0,\n",
       " 'DFW': 4.612903225806452,\n",
       " 'TPA': 9.0,\n",
       " 'OGG': -34.625,\n",
       " 'SJC': -10.333333333333334,\n",
       " 'KOA': -39.5,\n",
       " 'SMF': -8.0,\n",
       " 'SEA': -14.777777777777779,\n",
       " 'PDX': -25.0,\n",
       " 'OAK': -17.5,\n",
       " 'HNL': -28.714285714285715,\n",
       " 'SAN': -12.0,\n",
       " 'ANC': -27.0,\n",
       " 'LIH': -41.0,\n",
       " 'BLI': -18.0,\n",
       " 'DCA': -22.0}"
      ]
     },
     "execution_count": 14,
     "metadata": {},
     "output_type": "execute_result"
    }
   ],
   "source": [
    "arr_avg_delays(longlist_of_flights)"
   ]
  },
  {
   "cell_type": "markdown",
   "id": "88c9cdac-3e92-498f-83fa-e089bfc44ac8",
   "metadata": {},
   "source": [
    "## Question 5"
   ]
  },
  {
   "cell_type": "code",
   "execution_count": 22,
   "id": "d370d7c9-06db-42b9-b75f-240481a5c491",
   "metadata": {},
   "outputs": [],
   "source": [
    "class Flight:\n",
    "    \n",
    "    def __init__ (self, flight_number, origin_airport_ID, destination_airport_ID, departure_time, arrival_time, departure_delay, arrival_delay):\n",
    "        \n",
    "        self.flight_number = flight_number\n",
    "        self.origin_airport_ID = origin_airport_ID\n",
    "        self.destination_airport_ID = destination_airport_ID\n",
    "        self.departure_time = departure_time\n",
    "        self.arrival_time = arrival_time\n",
    "        self.departure_delay =  departure_delay\n",
    "        self.arrival_delay = arrival_delay\n",
    "        \n",
    "    def get_arrdelay(self):\n",
    "        return self.arrival_delay;\n",
    "    \n",
    "    def get_depdelay(self):\n",
    "        return self.departure_delay;"
   ]
  },
  {
   "cell_type": "code",
   "execution_count": 30,
   "id": "c0bf62ae-e3f1-40dd-859e-e639262492a5",
   "metadata": {},
   "outputs": [],
   "source": [
    "longlist_of_flights = []\n",
    "for index, row in myDF.iterrows():\n",
    "    myflight = Flight (   \n",
    "    flight_number = row['Flight_Number_Reporting_Airline'],\n",
    "    origin_airport_ID = row['Origin'],\n",
    "    destination_airport_ID = row['Dest'],\n",
    "    departure_time = row['DepTime'],\n",
    "    arrival_time = row['ArrTime'],\n",
    "    departure_delay=  row['DepDelay'],\n",
    "    arrival_delay = row['ArrDelay']\n",
    "    \n",
    "    )\n",
    "    \n",
    "    longlist_of_flights.append(myflight)"
   ]
  },
  {
   "cell_type": "code",
   "execution_count": 31,
   "id": "41df1483-f99a-42ae-be29-68f21628e802",
   "metadata": {},
   "outputs": [],
   "source": [
    "def dep_avg_delays(myflightlist):\n",
    "    \n",
    "    delays_origin = {}\n",
    "    \n",
    "    for myflight in myflightlist:\n",
    "        if myflight.origin_airport_ID not in delays_origin:\n",
    "            delays_origin[ myflight.origin_airport_ID] = []\n",
    "        delays_origin[ myflight.origin_airport_ID].append(myflight.get_depdelay())\n",
    "    average_delays = {myairport: sum(mydelays)/len(mydelays) for myairport, mydelays in delays_origin.items()}  \n",
    "    return average_delays"
   ]
  },
  {
   "cell_type": "code",
   "execution_count": 32,
   "id": "b1f3fa0d-6a14-4c64-bbb9-25798386cb3d",
   "metadata": {},
   "outputs": [
    {
     "data": {
      "text/plain": [
       "{'DFW': 3.0,\n",
       " 'ICT': 10.612903225806452,\n",
       " 'MIA': 15.05,\n",
       " 'BLI': -10.5,\n",
       " 'PDX': -9.75,\n",
       " 'OGG': -5.777777777777778,\n",
       " 'OAK': -7.0,\n",
       " 'SMF': -9.0,\n",
       " 'KOA': -13.5,\n",
       " 'HNL': -6.285714285714286,\n",
       " 'SJC': -4.0,\n",
       " 'SEA': -2.6666666666666665,\n",
       " 'SAN': -4.0,\n",
       " 'LIH': -8.0,\n",
       " 'ANC': -9.0,\n",
       " 'DCA': -7.5}"
      ]
     },
     "execution_count": 32,
     "metadata": {},
     "output_type": "execute_result"
    }
   ],
   "source": [
    "dep_avg_delays(longlist_of_flights)"
   ]
  },
  {
   "cell_type": "markdown",
   "id": "f76442d6-d02e-4f26-b9d6-c3183e1d6929",
   "metadata": {},
   "source": [
    "## Pledge\n",
    "\n",
    "By submitting this work I hereby pledge that this is my own, personal work. I've acknowledged in the designated place at the top of this file all sources that I used to complete said work, including but not limited to: online resources, books, and electronic communications. I've noted all collaboration with fellow students and/or TA's. I did not copy or plagiarize another's work.\n",
    "\n",
    "> As a Boilermaker pursuing academic excellence, I pledge to be honest and true in all that I do. Accountable together – We are Purdue."
   ]
  }
 ],
 "metadata": {
  "kernelspec": {
   "display_name": "seminar",
   "language": "python",
   "name": "seminar"
  },
  "language_info": {
   "codemirror_mode": {
    "name": "ipython",
    "version": 3
   },
   "file_extension": ".py",
   "mimetype": "text/x-python",
   "name": "python",
   "nbconvert_exporter": "python",
   "pygments_lexer": "ipython3",
   "version": "3.11.5"
  }
 },
 "nbformat": 4,
 "nbformat_minor": 5
}
