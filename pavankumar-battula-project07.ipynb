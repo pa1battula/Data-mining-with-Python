{
 "cells": [
  {
   "cell_type": "markdown",
   "id": "be02a957-7133-4d02-818e-fedeb3cecb05",
   "metadata": {},
   "source": [
    "# Project 07 -- [Pavan Kumar] [Battula]"
   ]
  },
  {
   "cell_type": "markdown",
   "id": "a1228853-dd19-4ab2-89e0-0394d7d72de3",
   "metadata": {},
   "source": [
    "**TA Help:** N/A\n",
    "    \n",
    "**Collaboration:** N/A"
   ]
  },
  {
   "cell_type": "markdown",
   "id": "6180e742-8e39-4698-98ff-5b00c8cf8ea0",
   "metadata": {},
   "source": [
    "## Question 1"
   ]
  },
  {
   "cell_type": "code",
   "execution_count": 3,
   "id": "49445606-d363-41b4-b479-e319a9a84c01",
   "metadata": {},
   "outputs": [],
   "source": [
    "import pandas as pd"
   ]
  },
  {
   "cell_type": "code",
   "execution_count": 4,
   "id": "5206b189-37b6-4fdc-a542-61993b77e8c1",
   "metadata": {},
   "outputs": [],
   "source": [
    "myyear = 1880"
   ]
  },
  {
   "cell_type": "code",
   "execution_count": 5,
   "id": "542cbd42-c8e1-4e92-a7c2-7f2f6fb5498c",
   "metadata": {},
   "outputs": [],
   "source": [
    "myDF = pd.read_csv((f'/anvil/projects/tdm/data/noaa/{myyear}.csv'),names=[\"id\",\"date\",\"element_code\",\"value\",\"mflag\",\"qflag\",\"sflag\",\"obstime\"],header=None)"
   ]
  },
  {
   "cell_type": "code",
   "execution_count": 6,
   "id": "513545f8-792d-4082-b6fd-704dced0958a",
   "metadata": {},
   "outputs": [
    {
     "data": {
      "text/plain": [
       "(370779, 8)"
      ]
     },
     "execution_count": 6,
     "metadata": {},
     "output_type": "execute_result"
    }
   ],
   "source": [
    "myDF.shape"
   ]
  },
  {
   "cell_type": "code",
   "execution_count": 8,
   "id": "253e4ab8-7afb-4772-8069-bd150519cd69",
   "metadata": {},
   "outputs": [],
   "source": [
    "us_records = myDF[myDF['id'].str.startswith('US')]"
   ]
  },
  {
   "cell_type": "code",
   "execution_count": 9,
   "id": "b9253784-02e1-40b8-b7f7-f4b04568d9e4",
   "metadata": {},
   "outputs": [
    {
     "data": {
      "text/plain": [
       "(48428, 8)"
      ]
     },
     "execution_count": 9,
     "metadata": {},
     "output_type": "execute_result"
    }
   ],
   "source": [
    "us_records.shape"
   ]
  },
  {
   "cell_type": "code",
   "execution_count": 10,
   "id": "4b462372-05e9-430b-b6b2-39c069507aa6",
   "metadata": {},
   "outputs": [
    {
     "data": {
      "text/html": [
       "<div>\n",
       "<style scoped>\n",
       "    .dataframe tbody tr th:only-of-type {\n",
       "        vertical-align: middle;\n",
       "    }\n",
       "\n",
       "    .dataframe tbody tr th {\n",
       "        vertical-align: top;\n",
       "    }\n",
       "\n",
       "    .dataframe thead th {\n",
       "        text-align: right;\n",
       "    }\n",
       "</style>\n",
       "<table border=\"1\" class=\"dataframe\">\n",
       "  <thead>\n",
       "    <tr style=\"text-align: right;\">\n",
       "      <th></th>\n",
       "      <th>id</th>\n",
       "      <th>date</th>\n",
       "      <th>element_code</th>\n",
       "      <th>value</th>\n",
       "      <th>mflag</th>\n",
       "      <th>qflag</th>\n",
       "      <th>sflag</th>\n",
       "      <th>obstime</th>\n",
       "    </tr>\n",
       "  </thead>\n",
       "  <tbody>\n",
       "    <tr>\n",
       "      <th>858</th>\n",
       "      <td>USC00015555</td>\n",
       "      <td>18800101</td>\n",
       "      <td>TMAX</td>\n",
       "      <td>222</td>\n",
       "      <td>NaN</td>\n",
       "      <td>NaN</td>\n",
       "      <td>0</td>\n",
       "      <td>NaN</td>\n",
       "    </tr>\n",
       "    <tr>\n",
       "      <th>859</th>\n",
       "      <td>USC00015555</td>\n",
       "      <td>18800101</td>\n",
       "      <td>TMIN</td>\n",
       "      <td>106</td>\n",
       "      <td>NaN</td>\n",
       "      <td>NaN</td>\n",
       "      <td>0</td>\n",
       "      <td>NaN</td>\n",
       "    </tr>\n",
       "    <tr>\n",
       "      <th>860</th>\n",
       "      <td>USC00015555</td>\n",
       "      <td>18800101</td>\n",
       "      <td>PRCP</td>\n",
       "      <td>13</td>\n",
       "      <td>NaN</td>\n",
       "      <td>NaN</td>\n",
       "      <td>0</td>\n",
       "      <td>NaN</td>\n",
       "    </tr>\n",
       "    <tr>\n",
       "      <th>861</th>\n",
       "      <td>USC00015555</td>\n",
       "      <td>18800101</td>\n",
       "      <td>SNOW</td>\n",
       "      <td>0</td>\n",
       "      <td>NaN</td>\n",
       "      <td>NaN</td>\n",
       "      <td>0</td>\n",
       "      <td>NaN</td>\n",
       "    </tr>\n",
       "    <tr>\n",
       "      <th>862</th>\n",
       "      <td>USC00023096</td>\n",
       "      <td>18800101</td>\n",
       "      <td>PRCP</td>\n",
       "      <td>0</td>\n",
       "      <td>NaN</td>\n",
       "      <td>NaN</td>\n",
       "      <td>F</td>\n",
       "      <td>NaN</td>\n",
       "    </tr>\n",
       "  </tbody>\n",
       "</table>\n",
       "</div>"
      ],
      "text/plain": [
       "              id      date element_code  value mflag qflag sflag  obstime\n",
       "858  USC00015555  18800101         TMAX    222   NaN   NaN     0      NaN\n",
       "859  USC00015555  18800101         TMIN    106   NaN   NaN     0      NaN\n",
       "860  USC00015555  18800101         PRCP     13   NaN   NaN     0      NaN\n",
       "861  USC00015555  18800101         SNOW      0   NaN   NaN     0      NaN\n",
       "862  USC00023096  18800101         PRCP      0   NaN   NaN     F      NaN"
      ]
     },
     "execution_count": 10,
     "metadata": {},
     "output_type": "execute_result"
    }
   ],
   "source": [
    "us_records.head()"
   ]
  },
  {
   "cell_type": "code",
   "execution_count": 12,
   "id": "01709da2-9088-4abf-90fe-8a9fd99d8c04",
   "metadata": {},
   "outputs": [],
   "source": [
    "myyear = 1881"
   ]
  },
  {
   "cell_type": "code",
   "execution_count": 13,
   "id": "9131e572-13df-412a-9860-1cc2091cf787",
   "metadata": {},
   "outputs": [],
   "source": [
    "myDF = pd.read_csv((f'/anvil/projects/tdm/data/noaa/{myyear}.csv'),names=[\"id\",\"date\",\"element_code\",\"value\",\"mflag\",\"qflag\",\"sflag\",\"obstime\"],header=None)"
   ]
  },
  {
   "cell_type": "code",
   "execution_count": 14,
   "id": "155497a6-83f1-4225-8bc4-f8c606c7526c",
   "metadata": {},
   "outputs": [
    {
     "data": {
      "text/plain": [
       "(443270, 8)"
      ]
     },
     "execution_count": 14,
     "metadata": {},
     "output_type": "execute_result"
    }
   ],
   "source": [
    "myDF.shape"
   ]
  },
  {
   "cell_type": "code",
   "execution_count": 15,
   "id": "d64d41cc-b7ab-4be5-868f-21161287dcfc",
   "metadata": {},
   "outputs": [],
   "source": [
    "us_records = myDF[myDF['id'].str.startswith('US')]"
   ]
  },
  {
   "cell_type": "code",
   "execution_count": 16,
   "id": "bd36d012-1de1-4a7e-bbd8-c8a829592405",
   "metadata": {},
   "outputs": [
    {
     "data": {
      "text/plain": [
       "(48196, 8)"
      ]
     },
     "execution_count": 16,
     "metadata": {},
     "output_type": "execute_result"
    }
   ],
   "source": [
    "us_records.shape"
   ]
  },
  {
   "cell_type": "code",
   "execution_count": 17,
   "id": "b117c351-c276-4e2f-8962-30357f032962",
   "metadata": {},
   "outputs": [
    {
     "data": {
      "text/html": [
       "<div>\n",
       "<style scoped>\n",
       "    .dataframe tbody tr th:only-of-type {\n",
       "        vertical-align: middle;\n",
       "    }\n",
       "\n",
       "    .dataframe tbody tr th {\n",
       "        vertical-align: top;\n",
       "    }\n",
       "\n",
       "    .dataframe thead th {\n",
       "        text-align: right;\n",
       "    }\n",
       "</style>\n",
       "<table border=\"1\" class=\"dataframe\">\n",
       "  <thead>\n",
       "    <tr style=\"text-align: right;\">\n",
       "      <th></th>\n",
       "      <th>id</th>\n",
       "      <th>date</th>\n",
       "      <th>element_code</th>\n",
       "      <th>value</th>\n",
       "      <th>mflag</th>\n",
       "      <th>qflag</th>\n",
       "      <th>sflag</th>\n",
       "      <th>obstime</th>\n",
       "    </tr>\n",
       "  </thead>\n",
       "  <tbody>\n",
       "    <tr>\n",
       "      <th>1008</th>\n",
       "      <td>USC00015555</td>\n",
       "      <td>18810101</td>\n",
       "      <td>TMAX</td>\n",
       "      <td>11</td>\n",
       "      <td>NaN</td>\n",
       "      <td>NaN</td>\n",
       "      <td>0</td>\n",
       "      <td>NaN</td>\n",
       "    </tr>\n",
       "    <tr>\n",
       "      <th>1009</th>\n",
       "      <td>USC00015555</td>\n",
       "      <td>18810101</td>\n",
       "      <td>TMIN</td>\n",
       "      <td>-33</td>\n",
       "      <td>NaN</td>\n",
       "      <td>NaN</td>\n",
       "      <td>0</td>\n",
       "      <td>NaN</td>\n",
       "    </tr>\n",
       "    <tr>\n",
       "      <th>1010</th>\n",
       "      <td>USC00015555</td>\n",
       "      <td>18810101</td>\n",
       "      <td>PRCP</td>\n",
       "      <td>15</td>\n",
       "      <td>NaN</td>\n",
       "      <td>NaN</td>\n",
       "      <td>0</td>\n",
       "      <td>NaN</td>\n",
       "    </tr>\n",
       "    <tr>\n",
       "      <th>1011</th>\n",
       "      <td>USC00015555</td>\n",
       "      <td>18810101</td>\n",
       "      <td>SNOW</td>\n",
       "      <td>15</td>\n",
       "      <td>NaN</td>\n",
       "      <td>NaN</td>\n",
       "      <td>0</td>\n",
       "      <td>NaN</td>\n",
       "    </tr>\n",
       "    <tr>\n",
       "      <th>1012</th>\n",
       "      <td>USC00023096</td>\n",
       "      <td>18810101</td>\n",
       "      <td>PRCP</td>\n",
       "      <td>0</td>\n",
       "      <td>NaN</td>\n",
       "      <td>NaN</td>\n",
       "      <td>F</td>\n",
       "      <td>NaN</td>\n",
       "    </tr>\n",
       "  </tbody>\n",
       "</table>\n",
       "</div>"
      ],
      "text/plain": [
       "               id      date element_code  value mflag qflag sflag  obstime\n",
       "1008  USC00015555  18810101         TMAX     11   NaN   NaN     0      NaN\n",
       "1009  USC00015555  18810101         TMIN    -33   NaN   NaN     0      NaN\n",
       "1010  USC00015555  18810101         PRCP     15   NaN   NaN     0      NaN\n",
       "1011  USC00015555  18810101         SNOW     15   NaN   NaN     0      NaN\n",
       "1012  USC00023096  18810101         PRCP      0   NaN   NaN     F      NaN"
      ]
     },
     "execution_count": 17,
     "metadata": {},
     "output_type": "execute_result"
    }
   ],
   "source": [
    "us_records.head()"
   ]
  },
  {
   "cell_type": "code",
   "execution_count": 18,
   "id": "d26adddd-a125-43ad-af10-88955e2bec74",
   "metadata": {},
   "outputs": [],
   "source": [
    "myyear = 1882"
   ]
  },
  {
   "cell_type": "code",
   "execution_count": 19,
   "id": "8eee0b44-1bba-496d-8dc8-ad415e469bf0",
   "metadata": {},
   "outputs": [],
   "source": [
    "myDF = pd.read_csv((f'/anvil/projects/tdm/data/noaa/{myyear}.csv'),names=[\"id\",\"date\",\"element_code\",\"value\",\"mflag\",\"qflag\",\"sflag\",\"obstime\"],header=None)"
   ]
  },
  {
   "cell_type": "code",
   "execution_count": 20,
   "id": "8e4ff667-91df-4350-8690-00ac497b4452",
   "metadata": {},
   "outputs": [
    {
     "data": {
      "text/plain": [
       "(514083, 8)"
      ]
     },
     "execution_count": 20,
     "metadata": {},
     "output_type": "execute_result"
    }
   ],
   "source": [
    "myDF.shape"
   ]
  },
  {
   "cell_type": "code",
   "execution_count": 21,
   "id": "67365c27-f697-4292-abca-e88c0f91905a",
   "metadata": {},
   "outputs": [],
   "source": [
    "us_records = myDF[myDF['id'].str.startswith('US')]"
   ]
  },
  {
   "cell_type": "code",
   "execution_count": 22,
   "id": "70a0886d-b60e-4f28-a712-ed5430bad653",
   "metadata": {},
   "outputs": [
    {
     "data": {
      "text/plain": [
       "(50664, 8)"
      ]
     },
     "execution_count": 22,
     "metadata": {},
     "output_type": "execute_result"
    }
   ],
   "source": [
    "us_records.shape"
   ]
  },
  {
   "cell_type": "code",
   "execution_count": 23,
   "id": "782fe645-7c38-49f6-a06f-0150a54efa24",
   "metadata": {},
   "outputs": [
    {
     "data": {
      "text/html": [
       "<div>\n",
       "<style scoped>\n",
       "    .dataframe tbody tr th:only-of-type {\n",
       "        vertical-align: middle;\n",
       "    }\n",
       "\n",
       "    .dataframe tbody tr th {\n",
       "        vertical-align: top;\n",
       "    }\n",
       "\n",
       "    .dataframe thead th {\n",
       "        text-align: right;\n",
       "    }\n",
       "</style>\n",
       "<table border=\"1\" class=\"dataframe\">\n",
       "  <thead>\n",
       "    <tr style=\"text-align: right;\">\n",
       "      <th></th>\n",
       "      <th>id</th>\n",
       "      <th>date</th>\n",
       "      <th>element_code</th>\n",
       "      <th>value</th>\n",
       "      <th>mflag</th>\n",
       "      <th>qflag</th>\n",
       "      <th>sflag</th>\n",
       "      <th>obstime</th>\n",
       "    </tr>\n",
       "  </thead>\n",
       "  <tbody>\n",
       "    <tr>\n",
       "      <th>1216</th>\n",
       "      <td>USC00015555</td>\n",
       "      <td>18820101</td>\n",
       "      <td>TMAX</td>\n",
       "      <td>106</td>\n",
       "      <td>NaN</td>\n",
       "      <td>NaN</td>\n",
       "      <td>0</td>\n",
       "      <td>NaN</td>\n",
       "    </tr>\n",
       "    <tr>\n",
       "      <th>1217</th>\n",
       "      <td>USC00015555</td>\n",
       "      <td>18820101</td>\n",
       "      <td>TMIN</td>\n",
       "      <td>-6</td>\n",
       "      <td>NaN</td>\n",
       "      <td>NaN</td>\n",
       "      <td>0</td>\n",
       "      <td>NaN</td>\n",
       "    </tr>\n",
       "    <tr>\n",
       "      <th>1218</th>\n",
       "      <td>USC00015555</td>\n",
       "      <td>18820101</td>\n",
       "      <td>PRCP</td>\n",
       "      <td>0</td>\n",
       "      <td>NaN</td>\n",
       "      <td>NaN</td>\n",
       "      <td>0</td>\n",
       "      <td>NaN</td>\n",
       "    </tr>\n",
       "    <tr>\n",
       "      <th>1219</th>\n",
       "      <td>USC00015555</td>\n",
       "      <td>18820101</td>\n",
       "      <td>SNOW</td>\n",
       "      <td>0</td>\n",
       "      <td>NaN</td>\n",
       "      <td>NaN</td>\n",
       "      <td>0</td>\n",
       "      <td>NaN</td>\n",
       "    </tr>\n",
       "    <tr>\n",
       "      <th>1220</th>\n",
       "      <td>USC00023096</td>\n",
       "      <td>18820101</td>\n",
       "      <td>PRCP</td>\n",
       "      <td>0</td>\n",
       "      <td>NaN</td>\n",
       "      <td>NaN</td>\n",
       "      <td>F</td>\n",
       "      <td>NaN</td>\n",
       "    </tr>\n",
       "  </tbody>\n",
       "</table>\n",
       "</div>"
      ],
      "text/plain": [
       "               id      date element_code  value mflag qflag sflag  obstime\n",
       "1216  USC00015555  18820101         TMAX    106   NaN   NaN     0      NaN\n",
       "1217  USC00015555  18820101         TMIN     -6   NaN   NaN     0      NaN\n",
       "1218  USC00015555  18820101         PRCP      0   NaN   NaN     0      NaN\n",
       "1219  USC00015555  18820101         SNOW      0   NaN   NaN     0      NaN\n",
       "1220  USC00023096  18820101         PRCP      0   NaN   NaN     F      NaN"
      ]
     },
     "execution_count": 23,
     "metadata": {},
     "output_type": "execute_result"
    }
   ],
   "source": [
    "us_records.head()\n"
   ]
  },
  {
   "cell_type": "code",
   "execution_count": 24,
   "id": "4de186b3-41c4-482c-8059-db95f1810253",
   "metadata": {},
   "outputs": [],
   "source": [
    "myyear = 1883"
   ]
  },
  {
   "cell_type": "code",
   "execution_count": 25,
   "id": "a3485da5-9f45-4e17-895c-c8d9def1fe29",
   "metadata": {},
   "outputs": [],
   "source": [
    "myDF = pd.read_csv((f'/anvil/projects/tdm/data/noaa/{myyear}.csv'),names=[\"id\",\"date\",\"element_code\",\"value\",\"mflag\",\"qflag\",\"sflag\",\"obstime\"],header=None)"
   ]
  },
  {
   "cell_type": "code",
   "execution_count": 26,
   "id": "a1c805c4-2719-4649-b036-1e52665cc877",
   "metadata": {},
   "outputs": [
    {
     "data": {
      "text/plain": [
       "(578730, 8)"
      ]
     },
     "execution_count": 26,
     "metadata": {},
     "output_type": "execute_result"
    }
   ],
   "source": [
    "myDF.shape"
   ]
  },
  {
   "cell_type": "code",
   "execution_count": 27,
   "id": "41dfa9ed-22f1-487c-a723-1e4cbaf1bf67",
   "metadata": {},
   "outputs": [],
   "source": [
    "us_records = myDF[myDF['id'].str.startswith('US')]"
   ]
  },
  {
   "cell_type": "code",
   "execution_count": 28,
   "id": "bb79dd3f-a3e3-44fc-8a5f-f2156e3c353b",
   "metadata": {},
   "outputs": [
    {
     "data": {
      "text/plain": [
       "(52363, 8)"
      ]
     },
     "execution_count": 28,
     "metadata": {},
     "output_type": "execute_result"
    }
   ],
   "source": [
    "us_records.shape"
   ]
  },
  {
   "cell_type": "code",
   "execution_count": 29,
   "id": "a779b92e-52c1-461e-ba22-d45b410ea448",
   "metadata": {},
   "outputs": [
    {
     "data": {
      "text/html": [
       "<div>\n",
       "<style scoped>\n",
       "    .dataframe tbody tr th:only-of-type {\n",
       "        vertical-align: middle;\n",
       "    }\n",
       "\n",
       "    .dataframe tbody tr th {\n",
       "        vertical-align: top;\n",
       "    }\n",
       "\n",
       "    .dataframe thead th {\n",
       "        text-align: right;\n",
       "    }\n",
       "</style>\n",
       "<table border=\"1\" class=\"dataframe\">\n",
       "  <thead>\n",
       "    <tr style=\"text-align: right;\">\n",
       "      <th></th>\n",
       "      <th>id</th>\n",
       "      <th>date</th>\n",
       "      <th>element_code</th>\n",
       "      <th>value</th>\n",
       "      <th>mflag</th>\n",
       "      <th>qflag</th>\n",
       "      <th>sflag</th>\n",
       "      <th>obstime</th>\n",
       "    </tr>\n",
       "  </thead>\n",
       "  <tbody>\n",
       "    <tr>\n",
       "      <th>1387</th>\n",
       "      <td>USC00015555</td>\n",
       "      <td>18830101</td>\n",
       "      <td>TMAX</td>\n",
       "      <td>122</td>\n",
       "      <td>NaN</td>\n",
       "      <td>NaN</td>\n",
       "      <td>0</td>\n",
       "      <td>NaN</td>\n",
       "    </tr>\n",
       "    <tr>\n",
       "      <th>1388</th>\n",
       "      <td>USC00015555</td>\n",
       "      <td>18830101</td>\n",
       "      <td>TMIN</td>\n",
       "      <td>0</td>\n",
       "      <td>NaN</td>\n",
       "      <td>NaN</td>\n",
       "      <td>0</td>\n",
       "      <td>NaN</td>\n",
       "    </tr>\n",
       "    <tr>\n",
       "      <th>1389</th>\n",
       "      <td>USC00015555</td>\n",
       "      <td>18830101</td>\n",
       "      <td>PRCP</td>\n",
       "      <td>0</td>\n",
       "      <td>NaN</td>\n",
       "      <td>NaN</td>\n",
       "      <td>0</td>\n",
       "      <td>NaN</td>\n",
       "    </tr>\n",
       "    <tr>\n",
       "      <th>1390</th>\n",
       "      <td>USC00015555</td>\n",
       "      <td>18830101</td>\n",
       "      <td>SNOW</td>\n",
       "      <td>0</td>\n",
       "      <td>NaN</td>\n",
       "      <td>NaN</td>\n",
       "      <td>0</td>\n",
       "      <td>NaN</td>\n",
       "    </tr>\n",
       "    <tr>\n",
       "      <th>1391</th>\n",
       "      <td>USC00023096</td>\n",
       "      <td>18830101</td>\n",
       "      <td>PRCP</td>\n",
       "      <td>0</td>\n",
       "      <td>NaN</td>\n",
       "      <td>NaN</td>\n",
       "      <td>F</td>\n",
       "      <td>NaN</td>\n",
       "    </tr>\n",
       "  </tbody>\n",
       "</table>\n",
       "</div>"
      ],
      "text/plain": [
       "               id      date element_code  value mflag qflag sflag  obstime\n",
       "1387  USC00015555  18830101         TMAX    122   NaN   NaN     0      NaN\n",
       "1388  USC00015555  18830101         TMIN      0   NaN   NaN     0      NaN\n",
       "1389  USC00015555  18830101         PRCP      0   NaN   NaN     0      NaN\n",
       "1390  USC00015555  18830101         SNOW      0   NaN   NaN     0      NaN\n",
       "1391  USC00023096  18830101         PRCP      0   NaN   NaN     F      NaN"
      ]
     },
     "execution_count": 29,
     "metadata": {},
     "output_type": "execute_result"
    }
   ],
   "source": [
    "us_records.head()"
   ]
  },
  {
   "cell_type": "code",
   "execution_count": 30,
   "id": "3e66fa1e-8ce2-44b7-a462-718ad1ca40df",
   "metadata": {},
   "outputs": [],
   "source": [
    "myyears = [1880, 1881, 1882, 1883]"
   ]
  },
  {
   "cell_type": "code",
   "execution_count": 31,
   "id": "68332a58-4722-459f-87f5-784f74225f33",
   "metadata": {},
   "outputs": [],
   "source": [
    "us_records_counts = {}"
   ]
  },
  {
   "cell_type": "code",
   "execution_count": 32,
   "id": "05cbee82-41f4-49b4-a42b-4dfb430ded23",
   "metadata": {},
   "outputs": [],
   "source": [
    "for year in myyears:\n",
    "    file_path = f'/anvil/projects/tdm/data/noaa/{year}.csv'\n",
    "    df = pd.read_csv(file_path, names=[\"id\", \"date\", \"element_code\", \"value\", \"mflag\", \"qflag\", \"sflag\", \"obstime\"], header=None)\n",
    "    us_records_count = df[df['id'].str.startswith('US')].shape[0]\n",
    "    us_records_counts[year] = us_records_count"
   ]
  },
  {
   "cell_type": "code",
   "execution_count": 33,
   "id": "78686b6e-6fa0-4f2a-9265-9e87fd1a056f",
   "metadata": {},
   "outputs": [
    {
     "data": {
      "text/plain": [
       "{1880: 48428, 1881: 48196, 1882: 50664, 1883: 52363}"
      ]
     },
     "execution_count": 33,
     "metadata": {},
     "output_type": "execute_result"
    }
   ],
   "source": [
    "us_records_counts"
   ]
  },
  {
   "cell_type": "code",
   "execution_count": 34,
   "id": "551d4c15-5c77-4347-8681-aa2fc79710f5",
   "metadata": {},
   "outputs": [],
   "source": [
    "def count_us_records_by_years(years: int) -> pd.DataFrame:\n",
    "        us_records_counts = {}\n",
    "        for year in years:\n",
    "            file_path = f'/anvil/projects/tdm/data/noaa/{year}.csv'\n",
    "            df = pd.read_csv(file_path, names=[\"id\", \"date\", \"element_code\", \"value\", \"mflag\", \"qflag\", \"sflag\", \"obstime\"], header=None)\n",
    "            us_records_count = df[df['id'].str.startswith('US')].shape[0]\n",
    "            us_records_counts[year] = us_records_count\n",
    "        \n",
    "        return us_records_counts"
   ]
  },
  {
   "cell_type": "code",
   "execution_count": 35,
   "id": "0139e761-6b0e-411d-a99c-35751f4c3f9a",
   "metadata": {},
   "outputs": [
    {
     "name": "stdout",
     "output_type": "stream",
     "text": [
      "{1880: 48428, 1881: 48196, 1882: 50664, 1883: 52363}\n"
     ]
    }
   ],
   "source": [
    "years_of_interest = [1880, 1881, 1882, 1883]\n",
    "us_records_counts = count_us_records_by_years(years_of_interest)\n",
    "print(us_records_counts)"
   ]
  },
  {
   "cell_type": "markdown",
   "id": "b456e57c-4a12-464b-999a-ef2df5af80c1",
   "metadata": {},
   "source": [
    "Markdown notes and sentences and analysis written here."
   ]
  },
  {
   "cell_type": "markdown",
   "id": "fc601975-35ed-4680-a4e1-0273ee3cc047",
   "metadata": {},
   "source": [
    "## Question 2"
   ]
  },
  {
   "cell_type": "code",
   "execution_count": 36,
   "id": "a16336a1-1ef0-41e8-bc7c-49387db27497",
   "metadata": {},
   "outputs": [],
   "source": [
    "us_records_counts = dict(sorted(us_records_counts.items(), key=lambda item: item[0], reverse=True))"
   ]
  },
  {
   "cell_type": "code",
   "execution_count": 37,
   "id": "8bb9e394-a210-47df-9737-945ec0355187",
   "metadata": {},
   "outputs": [
    {
     "data": {
      "text/plain": [
       "{1883: 52363, 1882: 50664, 1881: 48196, 1880: 48428}"
      ]
     },
     "execution_count": 37,
     "metadata": {},
     "output_type": "execute_result"
    }
   ],
   "source": [
    "us_records_counts"
   ]
  },
  {
   "cell_type": "code",
   "execution_count": 38,
   "id": "74bbabe8-9b08-429c-8ad9-fdb2f8785a08",
   "metadata": {},
   "outputs": [],
   "source": [
    "def count_us_records_desc(years: int) -> pd.DataFrame:\n",
    "    us_records_counts = {}\n",
    "    \n",
    "    for year in years:\n",
    "        file_path = f'/anvil/projects/tdm/data/noaa/{year}.csv'\n",
    "        df = pd.read_csv(file_path, names=[\"id\", \"date\", \"element_code\", \"value\", \"mflag\", \"qflag\", \"sflag\", \"obstime\"], header=None)\n",
    "        us_records_count = df[df['id'].str.startswith('US')].shape[0]\n",
    "        us_records_counts[year] = us_records_count\n",
    "    us_records_counts = dict(sorted(us_records_counts.items(), key=lambda item: item[0], reverse=True))\n",
    "    \n",
    "    return us_records_counts"
   ]
  },
  {
   "cell_type": "code",
   "execution_count": 39,
   "id": "a4ec73b3-7063-472d-be5d-3be31ef0106c",
   "metadata": {},
   "outputs": [
    {
     "name": "stdout",
     "output_type": "stream",
     "text": [
      "{1883: 52363, 1882: 50664, 1881: 48196, 1880: 48428}\n"
     ]
    }
   ],
   "source": [
    "years_of_interest = [1880, 1881, 1882, 1883]\n",
    "sorted_us_records_counts = count_us_records_desc(years_of_interest)\n",
    "print(sorted_us_records_counts)"
   ]
  },
  {
   "cell_type": "markdown",
   "id": "8e586edd-ff26-4ce2-8f6b-2424b26f2929",
   "metadata": {},
   "source": [
    "## Question 3"
   ]
  },
  {
   "cell_type": "code",
   "execution_count": 94,
   "id": "705fee0b-fce4-42ac-bcc2-dcbe519426d0",
   "metadata": {},
   "outputs": [],
   "source": [
    "myyear = 1880"
   ]
  },
  {
   "cell_type": "code",
   "execution_count": 95,
   "id": "ae130fb9-3d7f-4d04-9718-ad99b58518c6",
   "metadata": {},
   "outputs": [],
   "source": [
    "myDF = pd.read_csv((f'/anvil/projects/tdm/data/noaa/{myyear}.csv'),names=[\"id\",\"date\",\"element_code\",\"value\",\"mflag\",\"qflag\",\"sflag\",\"obstime\"],header=None)"
   ]
  },
  {
   "cell_type": "code",
   "execution_count": 96,
   "id": "bbe0f40d-9655-4653-9ca8-886bdb61cb91",
   "metadata": {},
   "outputs": [],
   "source": [
    "filtered_df = myDF[(myDF['id'].str.startswith('US')) & (myDF['element_code'] == 'SNOW') & (myDF['value'] > 0)]"
   ]
  },
  {
   "cell_type": "code",
   "execution_count": 54,
   "id": "e08b7a10-8267-48fc-8355-a1c08723d552",
   "metadata": {},
   "outputs": [
    {
     "data": {
      "text/plain": [
       "(203, 8)"
      ]
     },
     "execution_count": 54,
     "metadata": {},
     "output_type": "execute_result"
    }
   ],
   "source": [
    "filtered_df.shape"
   ]
  },
  {
   "cell_type": "code",
   "execution_count": 56,
   "id": "8964b116-5061-4d4f-a6fa-2af546e7f6c2",
   "metadata": {},
   "outputs": [],
   "source": [
    "myyear = 1881"
   ]
  },
  {
   "cell_type": "code",
   "execution_count": 60,
   "id": "ff0a8789-adff-4ed1-8fac-97bac8f7cbae",
   "metadata": {},
   "outputs": [
    {
     "data": {
      "text/plain": [
       "(266, 8)"
      ]
     },
     "execution_count": 60,
     "metadata": {},
     "output_type": "execute_result"
    }
   ],
   "source": [
    "filtered_df.shape"
   ]
  },
  {
   "cell_type": "code",
   "execution_count": 62,
   "id": "70575756-55ff-42b1-a667-99591c6e0fca",
   "metadata": {},
   "outputs": [],
   "source": [
    "myyear = 1882"
   ]
  },
  {
   "cell_type": "code",
   "execution_count": 65,
   "id": "dd8d0ba6-9b31-4f81-9837-6edac56d884c",
   "metadata": {},
   "outputs": [
    {
     "data": {
      "text/plain": [
       "(253, 8)"
      ]
     },
     "execution_count": 65,
     "metadata": {},
     "output_type": "execute_result"
    }
   ],
   "source": [
    "filtered_df.shape"
   ]
  },
  {
   "cell_type": "code",
   "execution_count": 66,
   "id": "4eeef078-2bd9-48cd-9b21-d38a357324ca",
   "metadata": {},
   "outputs": [],
   "source": [
    "myyear = 1883"
   ]
  },
  {
   "cell_type": "code",
   "execution_count": 70,
   "id": "5cb1a973-60dd-48b4-af2c-124ad0c3e44a",
   "metadata": {},
   "outputs": [
    {
     "data": {
      "text/plain": [
       "(187, 8)"
      ]
     },
     "execution_count": 70,
     "metadata": {},
     "output_type": "execute_result"
    }
   ],
   "source": [
    "filtered_df.shape"
   ]
  },
  {
   "cell_type": "code",
   "execution_count": 71,
   "id": "af6ce10c-f26a-485e-b127-51a4b296d317",
   "metadata": {},
   "outputs": [],
   "source": [
    "years_of_interest = [1880, 1881, 1882, 1883]"
   ]
  },
  {
   "cell_type": "code",
   "execution_count": 72,
   "id": "39acb773-d650-4b25-8d60-75dd829e43bb",
   "metadata": {},
   "outputs": [],
   "source": [
    "snowfall_counts = {}"
   ]
  },
  {
   "cell_type": "code",
   "execution_count": 73,
   "id": "ef303743-664f-4814-ab93-fd5bba9fcf5c",
   "metadata": {},
   "outputs": [],
   "source": [
    "for year in years_of_interest:\n",
    "        file_path = f'/anvil/projects/tdm/data/noaa/{year}.csv'\n",
    "        df = pd.read_csv(file_path, names=[\"id\", \"date\", \"element_code\", \"value\", \"mflag\", \"qflag\", \"sflag\", \"obstime\"], header=None)\n",
    "        positive_snowfall_count = df[(df['id'].str.startswith('US')) & (df['element_code'] == 'SNOW') & (df['value'] > 0)].shape[0]\n",
    "        snowfall_counts[year] = positive_snowfall_count"
   ]
  },
  {
   "cell_type": "code",
   "execution_count": 75,
   "id": "7543a6a6-f363-49f6-945b-c95d3164f497",
   "metadata": {},
   "outputs": [
    {
     "data": {
      "text/plain": [
       "{1880: 203, 1881: 266, 1882: 253, 1883: 187}"
      ]
     },
     "execution_count": 75,
     "metadata": {},
     "output_type": "execute_result"
    }
   ],
   "source": [
    "snowfall_counts"
   ]
  },
  {
   "cell_type": "code",
   "execution_count": 2,
   "id": "5d937b1c-99b6-40ca-b060-bd3abec39f30",
   "metadata": {},
   "outputs": [],
   "source": [
    "def count_snowfall_positive_years(years):\n",
    "    snowfall_counts = {}\n",
    "    for year in years:\n",
    "        file_path = f'/anvil/projects/tdm/data/noaa/{year}.csv'\n",
    "        df = pd.read_csv(file_path, names=[\"id\", \"date\", \"element_code\", \"value\", \"mflag\", \"qflag\", \"sflag\", \"obstime\"], header=None)\n",
    "        positive_snowfall_count = df[(df['id'].str.startswith('US')) & (df['element_code'] == 'SNOW') & (df['value'] > 0)].shape[0]\n",
    "        snowfall_counts[year] = positive_snowfall_count\n",
    "    return snowfall_counts"
   ]
  },
  {
   "cell_type": "code",
   "execution_count": 3,
   "id": "87a64df9-76f8-41ac-9a22-acb5c87fcad2",
   "metadata": {},
   "outputs": [],
   "source": [
    "years_of_interest = [1880, 1881, 1882, 1883]"
   ]
  },
  {
   "cell_type": "code",
   "execution_count": 78,
   "id": "8661465c-c013-4c69-aeaa-d181ee135725",
   "metadata": {},
   "outputs": [],
   "source": [
    "snowfall_counts = count_snowfall_positive_years(years_of_interest)"
   ]
  },
  {
   "cell_type": "code",
   "execution_count": 1,
   "id": "318b4138-793b-4a02-a73e-6ec31a526e53",
   "metadata": {},
   "outputs": [
    {
     "ename": "NameError",
     "evalue": "name 'snowfall_counts' is not defined",
     "output_type": "error",
     "traceback": [
      "\u001b[0;31m---------------------------------------------------------------------------\u001b[0m",
      "\u001b[0;31mNameError\u001b[0m                                 Traceback (most recent call last)",
      "Cell \u001b[0;32mIn[1], line 1\u001b[0m\n\u001b[0;32m----> 1\u001b[0m \u001b[38;5;28mprint\u001b[39m(\u001b[43msnowfall_counts\u001b[49m)\n",
      "\u001b[0;31mNameError\u001b[0m: name 'snowfall_counts' is not defined"
     ]
    }
   ],
   "source": [
    "print(snowfall_counts)"
   ]
  },
  {
   "cell_type": "markdown",
   "id": "47c6229f-35f7-400c-8366-c442baa5cf47",
   "metadata": {},
   "source": [
    "Markdown notes and sentences and analysis written here."
   ]
  },
  {
   "cell_type": "markdown",
   "id": "da22f29c-d245-4d2b-9fc1-ca14cb6087d9",
   "metadata": {},
   "source": [
    "## Question 4"
   ]
  },
  {
   "cell_type": "code",
   "execution_count": 104,
   "id": "ad4418e5-d843-48c8-ab79-bf158fc17c80",
   "metadata": {},
   "outputs": [],
   "source": [
    "myyear = 1880"
   ]
  },
  {
   "cell_type": "code",
   "execution_count": 142,
   "id": "8cffc767-d1c8-4d64-b7dc-f0d2ee8a80d1",
   "metadata": {},
   "outputs": [],
   "source": [
    "myDF = pd.read_csv((f'/anvil/projects/tdm/data/noaa/{myyear}.csv'),names=[\"id\",\"date\",\"element_code\",\"value\",\"mflag\",\"qflag\",\"sflag\",\"obstime\"],header=None)"
   ]
  },
  {
   "cell_type": "code",
   "execution_count": 143,
   "id": "1878a674-75db-4a2e-bb4b-5ab20766679e",
   "metadata": {},
   "outputs": [],
   "source": [
    "filtered_df = myDF[(myDF['id'].str.startswith('US')) & (myDF['element_code'] == 'SNOW') & (myDF['value'] > 0)]"
   ]
  },
  {
   "cell_type": "code",
   "execution_count": 144,
   "id": "5e069ce0-bd48-490b-9b61-babce42e94c4",
   "metadata": {},
   "outputs": [],
   "source": [
    "grouped = filtered_df.groupby('id').size()\n",
    "max_snowfall_id = grouped.idxmax()\n",
    "max_snowfall_count = grouped.max()"
   ]
  },
  {
   "cell_type": "code",
   "execution_count": 109,
   "id": "652bb44a-b330-4138-81bc-02ee33b0ee9d",
   "metadata": {},
   "outputs": [
    {
     "name": "stdout",
     "output_type": "stream",
     "text": [
      "Year 1880: ID with the most snowfall days is USW00024128 with 35 days.\n"
     ]
    }
   ],
   "source": [
    "print(f\"Year {myyear}: ID with the most snowfall days is {max_snowfall_id} with {max_snowfall_count} days.\")"
   ]
  },
  {
   "cell_type": "code",
   "execution_count": 110,
   "id": "5280688e-7e91-433f-a510-aba194a0aae0",
   "metadata": {},
   "outputs": [],
   "source": [
    "myyear = 1881"
   ]
  },
  {
   "cell_type": "code",
   "execution_count": 114,
   "id": "6c252fe8-6b32-4971-8263-4a66cd918177",
   "metadata": {},
   "outputs": [
    {
     "name": "stdout",
     "output_type": "stream",
     "text": [
      "Year 1881: ID with the most snowfall days is USC00464045 with 33 days.\n"
     ]
    }
   ],
   "source": [
    "print(f\"Year {myyear}: ID with the most snowfall days is {max_snowfall_id} with {max_snowfall_count} days.\")"
   ]
  },
  {
   "cell_type": "code",
   "execution_count": 136,
   "id": "9bb59beb-6cf1-4e9c-a3d6-43bec20a84b7",
   "metadata": {},
   "outputs": [],
   "source": [
    "myyear = 1882"
   ]
  },
  {
   "cell_type": "code",
   "execution_count": 140,
   "id": "d808d34f-c7c9-42fd-a3bd-15ca75f32c51",
   "metadata": {},
   "outputs": [
    {
     "name": "stdout",
     "output_type": "stream",
     "text": [
      "Year 1882: ID with the most snowfall days is USC00176902 with 49 days.\n"
     ]
    }
   ],
   "source": [
    "print(f\"Year {myyear}: ID with the most snowfall days is {max_snowfall_id} with {max_snowfall_count} days.\")"
   ]
  },
  {
   "cell_type": "code",
   "execution_count": 141,
   "id": "70627d7c-84e0-4a6c-9517-a14c90f66ff8",
   "metadata": {},
   "outputs": [],
   "source": [
    "myyear = 1883"
   ]
  },
  {
   "cell_type": "code",
   "execution_count": 145,
   "id": "eb5e5b3b-6187-454c-ab4d-169454257c24",
   "metadata": {},
   "outputs": [
    {
     "name": "stdout",
     "output_type": "stream",
     "text": [
      "Year 1883: ID with the most snowfall days is USC00176902 with 43 days.\n"
     ]
    }
   ],
   "source": [
    "print(f\"Year {myyear}: ID with the most snowfall days is {max_snowfall_id} with {max_snowfall_count} days.\")"
   ]
  },
  {
   "cell_type": "code",
   "execution_count": 170,
   "id": "cd0deee7-160e-4cb0-83d3-2c73ff997ab4",
   "metadata": {},
   "outputs": [],
   "source": [
    "years_of_interest = [1880, 1881, 1882, 1883]"
   ]
  },
  {
   "cell_type": "code",
   "execution_count": 171,
   "id": "2df8b4a4-8756-4b29-acd7-9f9e83df4e75",
   "metadata": {},
   "outputs": [],
   "source": [
    "max_snowfall_ids = {}"
   ]
  },
  {
   "cell_type": "code",
   "execution_count": 172,
   "id": "46fae31c-7a02-4fd0-825b-32767faecd6f",
   "metadata": {},
   "outputs": [],
   "source": [
    "for myyear in years_of_interest:\n",
    "    myDF = pd.read_csv((f'/anvil/projects/tdm/data/noaa/{myyear}.csv'),names=[\"id\",\"date\",\"element_code\",\"value\",\"mflag\",\"qflag\",\"sflag\",\"obstime\"],header=None)\n",
    "    filtered_df = myDF[(myDF['id'].str.startswith('US')) & (myDF['element_code'] == 'SNOW') & (myDF['value'] > 0)]\n",
    "    grouped = filtered_df.groupby('id').size()\n",
    "    max_snowfall_id = grouped.idxmax()\n",
    "    max_snowfall_ids[myyear] = max_snowfall_id"
   ]
  },
  {
   "cell_type": "code",
   "execution_count": 173,
   "id": "420e192f-93a2-4afe-9858-406c0b382af2",
   "metadata": {},
   "outputs": [
    {
     "data": {
      "text/plain": [
       "{1880: 'USW00024128',\n",
       " 1881: 'USC00464045',\n",
       " 1882: 'USC00176902',\n",
       " 1883: 'USC00176902'}"
      ]
     },
     "execution_count": 173,
     "metadata": {},
     "output_type": "execute_result"
    }
   ],
   "source": [
    "max_snowfall_ids"
   ]
  },
  {
   "cell_type": "code",
   "execution_count": 181,
   "id": "6c9c029d-f612-462c-b282-43ef6634b7a8",
   "metadata": {},
   "outputs": [],
   "source": [
    "def find_max_snowfall_ids(years):\n",
    "    max_snowfall_ids = {}\n",
    "    for year in years:\n",
    "        file_path = f'/anvil/projects/tdm/data/noaa/{year}.csv'\n",
    "        myDF = pd.read_csv(file_path, names=[\"id\", \"date\", \"element_code\", \"value\", \"mflag\", \"qflag\", \"sflag\", \"obstime\"], header=None)\n",
    "        filtered_df = myDF[(myDF['id'].str.startswith('US')) & (myDF['element_code'] == 'SNOW') & (myDF['value'] > 0)]\n",
    "        grouped = filtered_df.groupby('id').size()\n",
    "        max_snowfall_id = grouped.idxmax()\n",
    "        max_snowfall_ids[year] = max_snowfall_id\n",
    "    return max_snowfall_ids"
   ]
  },
  {
   "cell_type": "code",
   "execution_count": 182,
   "id": "702cd5d4-a47c-4208-af44-247bcc2c72c0",
   "metadata": {},
   "outputs": [
    {
     "name": "stdout",
     "output_type": "stream",
     "text": [
      "{1880: 'USW00024128', 1881: 'USC00464045', 1882: 'USC00176902', 1883: 'USC00176902'}\n"
     ]
    }
   ],
   "source": [
    "years_of_interest = [1880, 1881, 1882, 1883]\n",
    "result = find_max_snowfall_ids(years_of_interest)\n",
    "print(result)"
   ]
  },
  {
   "cell_type": "markdown",
   "id": "0d552245-b4d6-474a-9cc9-fa7b8e674d55",
   "metadata": {},
   "source": [
    "Markdown notes and sentences and analysis written here."
   ]
  },
  {
   "cell_type": "markdown",
   "id": "88c9cdac-3e92-498f-83fa-e089bfc44ac8",
   "metadata": {},
   "source": [
    "## Question 5"
   ]
  },
  {
   "cell_type": "code",
   "execution_count": 1,
   "id": "d370d7c9-06db-42b9-b75f-240481a5c491",
   "metadata": {},
   "outputs": [],
   "source": [
    "myyear = 1880"
   ]
  },
  {
   "cell_type": "code",
   "execution_count": 23,
   "id": "b7a51316-9f89-4e58-9321-13f8c85da63a",
   "metadata": {},
   "outputs": [],
   "source": [
    "myDF = pd.read_csv((f'/anvil/projects/tdm/data/noaa/{myyear}.csv'),names=[\"id\",\"date\",\"element_code\",\"value\",\"mflag\",\"qflag\",\"sflag\",\"obstime\"],header=None)"
   ]
  },
  {
   "cell_type": "code",
   "execution_count": 24,
   "id": "3c380e9f-1788-48f4-bb28-26e42bbe76b7",
   "metadata": {},
   "outputs": [],
   "source": [
    "filtered_df = myDF[(myDF['id'].str.startswith('US')) & (myDF['element_code'] == 'SNOW') & (myDF['value'] > 0)]"
   ]
  },
  {
   "cell_type": "code",
   "execution_count": 25,
   "id": "d8508862-4173-476d-9f1a-69fb70247473",
   "metadata": {},
   "outputs": [],
   "source": [
    "grouped_sum = filtered_df.groupby('id')['value'].sum()"
   ]
  },
  {
   "cell_type": "code",
   "execution_count": 26,
   "id": "97e093e3-e807-4be3-a107-1c6214c9139c",
   "metadata": {},
   "outputs": [],
   "source": [
    "max_snowfall_id = grouped_sum.idxmax()\n",
    "max_snowfall_total = grouped_sum.max()"
   ]
  },
  {
   "cell_type": "code",
   "execution_count": 9,
   "id": "13c3aa2e-228c-4cfd-95f6-99536ab2bfa6",
   "metadata": {},
   "outputs": [
    {
     "name": "stdout",
     "output_type": "stream",
     "text": [
      "Year 1880: ID with the largest total snowfall is USC00464045 with 1755 units of snowfall.\n"
     ]
    }
   ],
   "source": [
    "print(f\"Year 1880: ID with the largest total snowfall is {max_snowfall_id} with {max_snowfall_total} units of snowfall.\")"
   ]
  },
  {
   "cell_type": "code",
   "execution_count": 10,
   "id": "21fde0cc-9ca5-46c4-b00e-fa5c3b6da735",
   "metadata": {},
   "outputs": [],
   "source": [
    "myyear = 1881"
   ]
  },
  {
   "cell_type": "code",
   "execution_count": 15,
   "id": "f76a70cf-b180-44d7-b857-5645ca6360ce",
   "metadata": {},
   "outputs": [
    {
     "name": "stdout",
     "output_type": "stream",
     "text": [
      "Year 1881: ID with the largest total snowfall is USW00014971 with 2199 units of snowfall.\n"
     ]
    }
   ],
   "source": [
    "print(f\"Year 1881: ID with the largest total snowfall is {max_snowfall_id} with {max_snowfall_total} units of snowfall.\")"
   ]
  },
  {
   "cell_type": "code",
   "execution_count": 16,
   "id": "f5db0709-df12-4059-be44-b6c22c0dbf58",
   "metadata": {},
   "outputs": [],
   "source": [
    "myyear = 1882"
   ]
  },
  {
   "cell_type": "code",
   "execution_count": 21,
   "id": "1bae4103-5118-4413-8498-6044a663de68",
   "metadata": {},
   "outputs": [
    {
     "name": "stdout",
     "output_type": "stream",
     "text": [
      "Year 1882: ID with the largest total snowfall is USC00176902 with 2622 units of snowfall.\n"
     ]
    }
   ],
   "source": [
    "print(f\"Year 1882: ID with the largest total snowfall is {max_snowfall_id} with {max_snowfall_total} units of snowfall.\")"
   ]
  },
  {
   "cell_type": "code",
   "execution_count": 22,
   "id": "1c2090bb-3f60-46a1-a15c-f08102c0e0e0",
   "metadata": {},
   "outputs": [],
   "source": [
    "myyear = 1883"
   ]
  },
  {
   "cell_type": "code",
   "execution_count": 27,
   "id": "b372fccb-bbc2-4dfc-879e-a33ad3b301a8",
   "metadata": {},
   "outputs": [
    {
     "name": "stdout",
     "output_type": "stream",
     "text": [
      "Year 1883: ID with the largest total snowfall is USC00464045 with 3256 units of snowfall.\n"
     ]
    }
   ],
   "source": [
    "print(f\"Year 1883: ID with the largest total snowfall is {max_snowfall_id} with {max_snowfall_total} units of snowfall.\")"
   ]
  },
  {
   "cell_type": "code",
   "execution_count": 38,
   "id": "5d3cb1af-48d8-4b0c-a6c1-6613d980de01",
   "metadata": {},
   "outputs": [],
   "source": [
    "years_of_interest = [1880, 1881, 1882, 1883]"
   ]
  },
  {
   "cell_type": "code",
   "execution_count": 39,
   "id": "2bed662c-f2c5-48df-9a89-b086a17774aa",
   "metadata": {},
   "outputs": [],
   "source": [
    "max_snowfall_ids_totals = {}"
   ]
  },
  {
   "cell_type": "code",
   "execution_count": 40,
   "id": "25f4c1c1-958d-4bca-9098-97b9e3729f45",
   "metadata": {},
   "outputs": [],
   "source": [
    "for myyear in years_of_interest:\n",
    "    myDF = pd.read_csv((f'/anvil/projects/tdm/data/noaa/{myyear}.csv'),names=[\"id\",\"date\",\"element_code\",\"value\",\"mflag\",\"qflag\",\"sflag\",\"obstime\"],header=None)\n",
    "    filtered_df = myDF[(myDF['id'].str.startswith('US')) & (myDF['element_code'] == 'SNOW') & (myDF['value'] > 0)]\n",
    "    grouped_sum = filtered_df.groupby('id')['value'].sum()\n",
    "    max_snowfall_id = grouped_sum.idxmax()\n",
    "    max_snowfall_total = grouped_sum.max()\n",
    "    max_snowfall_ids_totals[myyear] = (max_snowfall_id, max_snowfall_total)"
   ]
  },
  {
   "cell_type": "code",
   "execution_count": 41,
   "id": "724c000e-b88f-400d-931f-455b6ae8bf2c",
   "metadata": {},
   "outputs": [
    {
     "data": {
      "text/plain": [
       "{1880: ('USC00464045', 1755),\n",
       " 1881: ('USW00014971', 2199),\n",
       " 1882: ('USC00176902', 2622),\n",
       " 1883: ('USC00464045', 3256)}"
      ]
     },
     "execution_count": 41,
     "metadata": {},
     "output_type": "execute_result"
    }
   ],
   "source": [
    "max_snowfall_ids_totals"
   ]
  },
  {
   "cell_type": "code",
   "execution_count": 43,
   "id": "c7818232-edfe-452e-a83e-b31d20dab6ad",
   "metadata": {},
   "outputs": [],
   "source": [
    "def find_max_snowfall_totals(years):\n",
    "    max_snowfall_totals = {}\n",
    "    for year in years:\n",
    "        file_path = f'/anvil/projects/tdm/data/noaa/{year}.csv'\n",
    "        myDF = pd.read_csv(file_path, names=[\"id\", \"date\", \"element_code\", \"value\", \"mflag\", \"qflag\", \"sflag\", \"obstime\"], header=None)\n",
    "        filtered_df = myDF[(myDF['id'].str.startswith('US')) & (myDF['element_code'] == 'SNOW') & (myDF['value'] > 0)]\n",
    "        grouped_sum = filtered_df.groupby('id')['value'].sum()\n",
    "        max_snowfall_id = grouped_sum.idxmax()\n",
    "        max_snowfall_total = grouped_sum.max()\n",
    "        max_snowfall_totals[year] = (max_snowfall_id, max_snowfall_total)\n",
    "\n",
    "    return max_snowfall_totals"
   ]
  },
  {
   "cell_type": "code",
   "execution_count": 44,
   "id": "e7745a53-600d-4663-8f9d-63a3c8b38fed",
   "metadata": {},
   "outputs": [
    {
     "name": "stdout",
     "output_type": "stream",
     "text": [
      "{1880: ('USC00464045', 1755), 1881: ('USW00014971', 2199), 1882: ('USC00176902', 2622), 1883: ('USC00464045', 3256)}\n"
     ]
    }
   ],
   "source": [
    "years_of_interest = [1880, 1881, 1882, 1883]\n",
    "result = find_max_snowfall_totals(years_of_interest)\n",
    "print(result)"
   ]
  },
  {
   "cell_type": "markdown",
   "id": "f76442d6-d02e-4f26-b9d6-c3183e1d6929",
   "metadata": {},
   "source": [
    "## Pledge\n",
    "\n",
    "By submitting this work I hereby pledge that this is my own, personal work. I've acknowledged in the designated place at the top of this file all sources that I used to complete said work, including but not limited to: online resources, books, and electronic communications. I've noted all collaboration with fellow students and/or TA's. I did not copy or plagiarize another's work.\n",
    "\n",
    "> As a Boilermaker pursuing academic excellence, I pledge to be honest and true in all that I do. Accountable together – We are Purdue."
   ]
  }
 ],
 "metadata": {
  "kernelspec": {
   "display_name": "seminar",
   "language": "python",
   "name": "seminar"
  },
  "language_info": {
   "codemirror_mode": {
    "name": "ipython",
    "version": 3
   },
   "file_extension": ".py",
   "mimetype": "text/x-python",
   "name": "python",
   "nbconvert_exporter": "python",
   "pygments_lexer": "ipython3",
   "version": "3.11.5"
  }
 },
 "nbformat": 4,
 "nbformat_minor": 5
}
