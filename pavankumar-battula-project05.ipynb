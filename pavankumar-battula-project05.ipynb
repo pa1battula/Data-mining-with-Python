{
 "cells": [
  {
   "cell_type": "markdown",
   "id": "be02a957-7133-4d02-818e-fedeb3cecb05",
   "metadata": {},
   "source": [
    "# Project 05 -- [PavanKumar] [Battula]"
   ]
  },
  {
   "cell_type": "markdown",
   "id": "a1228853-dd19-4ab2-89e0-0394d7d72de3",
   "metadata": {},
   "source": [
    "**TA Help:** N/A\n",
    "\n",
    "- Help with figuring out how to write a function.\n",
    "    \n",
    "**Collaboration:** N/A\n",
    "    \n",
    "- Helped figuring out how to load the dataset.\n",
    "- Helped debug error with my plot."
   ]
  },
  {
   "cell_type": "markdown",
   "id": "6180e742-8e39-4698-98ff-5b00c8cf8ea0",
   "metadata": {},
   "source": [
    "## Question 1"
   ]
  },
  {
   "cell_type": "code",
   "execution_count": 4,
   "id": "cfce0613-55ae-445b-8afe-c763571c6b94",
   "metadata": {},
   "outputs": [
    {
     "data": {
      "text/plain": [
       "'myDF = pd.read_csv(\"/anvil/projects/tdm/data/noaa/2018.csv\", header= None, names=[\"id\",\"date\",\"element_code\",\"value\",\"mflag\",\"qflag\",\"sflag\",\"obstime\"])\\nmyDF.head()'"
      ]
     },
     "execution_count": 4,
     "metadata": {},
     "output_type": "execute_result"
    }
   ],
   "source": [
    "import pandas as pd\n",
    "\"\"\"myDF = pd.read_csv(\"/anvil/projects/tdm/data/noaa/2018.csv\", header= None, names=[\"id\",\"date\",\"element_code\",\"value\",\"mflag\",\"qflag\",\"sflag\",\"obstime\"])\n",
    "myDF.head()\"\"\""
   ]
  },
  {
   "cell_type": "code",
   "execution_count": 5,
   "id": "49445606-d363-41b4-b479-e319a9a84c01",
   "metadata": {},
   "outputs": [
    {
     "data": {
      "text/plain": [
       "'returns an output of float value '"
      ]
     },
     "execution_count": 5,
     "metadata": {},
     "output_type": "execute_result"
    }
   ],
   "source": [
    "\"\"\" \n",
    "Function to find average of aggregated temparature\n",
    "\"\"\"\n",
    "\n",
    "def avg_aggreg_temp (file_location, column_title_list, start_date, end_date, my_element_code = 'TAVG'):\n",
    "    myDF = pd.read_csv(file_location, header= None, names=column_title_list)\n",
    "    my_result = myDF[(myDF['date'] >= start_date) & (myDF['date'] <= end_date) & (myDF['element_code'] == my_element_code)]['value'].mean()\n",
    "    return my_result\n",
    "\"\"\"returns an output of float value \"\"\""
   ]
  },
  {
   "cell_type": "code",
   "execution_count": 6,
   "id": "3b58331e-986c-4a09-b362-67c4e708264d",
   "metadata": {},
   "outputs": [
    {
     "data": {
      "text/plain": [
       "12.317542410053962"
      ]
     },
     "execution_count": 6,
     "metadata": {},
     "output_type": "execute_result"
    }
   ],
   "source": [
    "avg_aggreg_temp(\"/anvil/projects/tdm/data/noaa/2018.csv\", [\"id\",\"date\",\"element_code\",\"value\",\"mflag\",\"qflag\",\"sflag\",\"obstime\"], \n",
    "               20180101, 20180115, 'TAVG')"
   ]
  },
  {
   "cell_type": "markdown",
   "id": "b456e57c-4a12-464b-999a-ef2df5af80c1",
   "metadata": {},
   "source": [
    "Markdown notes and sentences and analysis written here."
   ]
  },
  {
   "cell_type": "markdown",
   "id": "fc601975-35ed-4680-a4e1-0273ee3cc047",
   "metadata": {},
   "source": [
    "## Question 2"
   ]
  },
  {
   "cell_type": "code",
   "execution_count": 25,
   "id": "26e14465-c69e-44eb-843f-ed81003fef7b",
   "metadata": {},
   "outputs": [
    {
     "name": "stdout",
     "output_type": "stream",
     "text": [
      "127.30054644808743\n"
     ]
    }
   ],
   "source": [
    "my_result = myDF[myDF['element_code'] == my_element_code]['value'].mean()\n",
    "print(my_result)"
   ]
  },
  {
   "cell_type": "code",
   "execution_count": 34,
   "id": "a16336a1-1ef0-41e8-bc7c-49387db27497",
   "metadata": {},
   "outputs": [
    {
     "data": {
      "text/plain": [
       "'returns an output of one float value for each year '"
      ]
     },
     "execution_count": 34,
     "metadata": {},
     "output_type": "execute_result"
    }
   ],
   "source": [
    "\n",
    "\"\"\" \n",
    "Function to find average of aggregated temparature by year.\n",
    "\"\"\"\n",
    "\n",
    "def avg_aggreg_temp_by_year (range_of_years, column_title_list,my_element_code = \"TAVG\" ):\n",
    "    my_dict = {}\n",
    "    for my_year in range_of_years:\n",
    "        file_location = f'/anvil/projects/tdm/data/noaa/{my_year}.csv'\n",
    "        myDF= pd.read_csv(file_location, header= None, names= column_title_list)\n",
    "        my_result = myDF[myDF['element_code'] == my_element_code]['value'].mean()\n",
    "        my_dict[my_year] = my_result\n",
    "    return my_dict\n",
    "\"\"\"returns an output of one dictionary values for each year \"\"\""
   ]
  },
  {
   "cell_type": "code",
   "execution_count": 37,
   "id": "85ab368d-049c-4c3e-82c0-64b1a8a9ebd8",
   "metadata": {},
   "outputs": [
    {
     "data": {
      "text/plain": [
       "{1880: 127.30054644808743,\n",
       " 1881: 49.00669116954104,\n",
       " 1882: 58.33541290428501,\n",
       " 1883: 50.54050116550116}"
      ]
     },
     "execution_count": 37,
     "metadata": {},
     "output_type": "execute_result"
    }
   ],
   "source": [
    "avg_aggreg_temp_by_year(range(1880, 1884), [\"id\",\"date\",\"element_code\",\"value\",\"mflag\",\"qflag\",\"sflag\",\"obstime\"])"
   ]
  },
  {
   "cell_type": "markdown",
   "id": "14dc22d4-ddc3-41cc-a91a-cb0025bc0c80",
   "metadata": {},
   "source": [
    "Markdown notes and sentences and analysis written here."
   ]
  },
  {
   "cell_type": "markdown",
   "id": "8e586edd-ff26-4ce2-8f6b-2424b26f2929",
   "metadata": {},
   "source": [
    "## Question 3"
   ]
  },
  {
   "cell_type": "code",
   "execution_count": 7,
   "id": "bbe0f40d-9655-4653-9ca8-886bdb61cb91",
   "metadata": {},
   "outputs": [
    {
     "data": {
      "text/plain": [
       "'returns an output of one dictionary values for each year and month'"
      ]
     },
     "execution_count": 7,
     "metadata": {},
     "output_type": "execute_result"
    }
   ],
   "source": [
    "\"\"\" \n",
    "Function to find average of aggregated temparature by year.\n",
    "\"\"\"\n",
    "\n",
    "def avg_aggreg_temp_by_year_and_month (range_of_years, my_month, column_title_list,my_element_code = \"TAVG\" ):\n",
    "    my_dict = {}\n",
    "    for my_year in range_of_years:\n",
    "        file_location = f'/anvil/projects/tdm/data/noaa/{my_year}.csv'\n",
    "        myDF= pd.read_csv(file_location, header= None, names= column_title_list)\n",
    "        myDF['month'] = pd.to_datetime(myDF['date'], format='%Y%m%d').dt.month\n",
    "        my_result = myDF[(myDF['element_code'] == my_element_code) &(myDF['month']== my_month)]['value'].mean()\n",
    "        my_dict[my_year] = my_result\n",
    "    return my_dict\n",
    "\"\"\"returns an output of one dictionary values for each year and month\"\"\""
   ]
  },
  {
   "cell_type": "code",
   "execution_count": 8,
   "id": "7d7cc92a-af2a-404f-a755-af9d463b0343",
   "metadata": {},
   "outputs": [
    {
     "data": {
      "text/plain": [
       "{1880: 225.70967741935485,\n",
       " 1881: 188.42227122381476,\n",
       " 1882: 207.34585741811176,\n",
       " 1883: 185.22810060711188}"
      ]
     },
     "execution_count": 8,
     "metadata": {},
     "output_type": "execute_result"
    }
   ],
   "source": [
    "avg_aggreg_temp_by_year_and_month(range(1880, 1884), 8, [\"id\",\"date\",\"element_code\",\"value\",\"mflag\",\"qflag\",\"sflag\",\"obstime\"], 'TAVG')"
   ]
  },
  {
   "cell_type": "markdown",
   "id": "47c6229f-35f7-400c-8366-c442baa5cf47",
   "metadata": {},
   "source": [
    "Markdown notes and sentences and analysis written here."
   ]
  },
  {
   "cell_type": "markdown",
   "id": "da22f29c-d245-4d2b-9fc1-ca14cb6087d9",
   "metadata": {},
   "source": [
    "## Question 4"
   ]
  },
  {
   "cell_type": "code",
   "execution_count": 15,
   "id": "8cffc767-d1c8-4d64-b7dc-f0d2ee8a80d1",
   "metadata": {},
   "outputs": [
    {
     "data": {
      "text/plain": [
       "array([nan, 'D', 'I', 'N', 'S', 'X', 'O', 'G'], dtype=object)"
      ]
     },
     "execution_count": 15,
     "metadata": {},
     "output_type": "execute_result"
    }
   ],
   "source": [
    "myDF['qflag'].unique()"
   ]
  },
  {
   "cell_type": "code",
   "execution_count": 23,
   "id": "a65b6d36-39e0-4efd-b578-5316577f7fb5",
   "metadata": {},
   "outputs": [
    {
     "data": {
      "text/plain": [
       "'returns an output of one dictionary values for each year '"
      ]
     },
     "execution_count": 23,
     "metadata": {},
     "output_type": "execute_result"
    }
   ],
   "source": [
    "\"\"\" \n",
    "Function to find the year that has the most qflags of the type.\n",
    "\"\"\"\n",
    "\n",
    "def most_qflag_year (range_of_years, my_qflag= 'D'):\n",
    "    column_title_list = [\"id\",\"date\",\"element_code\",\"value\",\"mflag\",\"qflag\",\"sflag\",\"obstime\"]\n",
    "    max_qflags = 0\n",
    "    year_with_max_qflags = None\n",
    "    for my_year in range_of_years:\n",
    "        file_location = f'/anvil/projects/tdm/data/noaa/{my_year}.csv'\n",
    "        myDF= pd.read_csv(file_location, header= None, names= column_title_list)\n",
    "        qflag_count = len(myDF[myDF['qflag'] == my_qflag])\n",
    "        \n",
    "        if qflag_count > max_qflags:\n",
    "            max_qflags = qflag_count\n",
    "            year_with_max_qflags = my_year\n",
    "\n",
    "    return year_with_max_qflags\n",
    "\"\"\"returns an output of one dictionary values for each year \"\"\""
   ]
  },
  {
   "cell_type": "code",
   "execution_count": 24,
   "id": "98a43538-41fa-45bd-84a3-d67227f9fd92",
   "metadata": {},
   "outputs": [
    {
     "data": {
      "text/plain": [
       "1880"
      ]
     },
     "execution_count": 24,
     "metadata": {},
     "output_type": "execute_result"
    }
   ],
   "source": [
    "most_qflag_year(range(1880,1884), 'D')"
   ]
  },
  {
   "cell_type": "code",
   "execution_count": 26,
   "id": "5470dabc-19bb-4ee7-be18-a625310bdc08",
   "metadata": {},
   "outputs": [
    {
     "data": {
      "text/plain": [
       "1881"
      ]
     },
     "execution_count": 26,
     "metadata": {},
     "output_type": "execute_result"
    }
   ],
   "source": [
    "most_qflag_year(range(1880,1884), 'L')"
   ]
  },
  {
   "cell_type": "code",
   "execution_count": 29,
   "id": "10094835-cc39-4e0f-9967-8fe449401948",
   "metadata": {},
   "outputs": [
    {
     "data": {
      "text/plain": [
       "1883"
      ]
     },
     "execution_count": 29,
     "metadata": {},
     "output_type": "execute_result"
    }
   ],
   "source": [
    "most_qflag_year(range(1880,1884), 'I')"
   ]
  },
  {
   "cell_type": "markdown",
   "id": "887bf1f4-68e1-41bf-a01c-8946c5e58bc0",
   "metadata": {},
   "source": [
    "QFLAG VALUES = D, G, I, K, L, N, O, S, X"
   ]
  },
  {
   "cell_type": "markdown",
   "id": "88c9cdac-3e92-498f-83fa-e089bfc44ac8",
   "metadata": {},
   "source": [
    "## Question 5"
   ]
  },
  {
   "cell_type": "code",
   "execution_count": 5,
   "id": "d370d7c9-06db-42b9-b75f-240481a5c491",
   "metadata": {},
   "outputs": [],
   "source": [
    "def calculate_monthly_average_temperature(file_path):\n",
    "    \"\"\"\n",
    "    Calculate the average temperature for each month across all years available in the NOAA dataset.\n",
    "\n",
    "    Parameters:\n",
    "    - file_path (str): The file path of the NOAA dataset CSV file.\n",
    "    \"\"\"\n",
    "    column_titles = [\"id\", \"date\", \"element_code\", \"value\", \"mflag\", \"qflag\", \"sflag\", \"obstime\"]\n",
    "\n",
    "    df = pd.read_csv(file_path, header=None, names=column_titles)\n",
    "    df['date'] = pd.to_datetime(df['date'])\n",
    "    df['month'] = df['date'].dt.month\n",
    "    df['year'] = df['date'].dt.year\n",
    "\n",
    "    # Filter out rows with missing values\n",
    "    df = df.dropna(subset=['value'])\n",
    "\n",
    "    # Group by month and year, then calculate the average temperature for each month\n",
    "    monthly_avg_temp = df.groupby(['month', 'year'])['value'].mean().reset_index()\n",
    "\n",
    "    # Pivot the DataFrame to have months as columns and years as rows\n",
    "    monthly_avg_temp_pivot = monthly_avg_temp.pivot(index='year', columns='month', values='value')\n",
    "\n",
    "    # Calculate the overall average temperature for each month across all years\n",
    "    overall_monthly_avg_temp = monthly_avg_temp_pivot.mean()\n",
    "\n",
    "    # Create a DataFrame to store the results\n",
    "    result_df = pd.DataFrame({'Month': overall_monthly_avg_temp.index, 'Average Temperature': overall_monthly_avg_temp.values})\n",
    "\n",
    "    return result_df\n"
   ]
  },
  {
   "cell_type": "code",
   "execution_count": 6,
   "id": "18422891-74eb-495b-981f-463404d3e6b5",
   "metadata": {},
   "outputs": [
    {
     "data": {
      "text/html": [
       "<div>\n",
       "<style scoped>\n",
       "    .dataframe tbody tr th:only-of-type {\n",
       "        vertical-align: middle;\n",
       "    }\n",
       "\n",
       "    .dataframe tbody tr th {\n",
       "        vertical-align: top;\n",
       "    }\n",
       "\n",
       "    .dataframe thead th {\n",
       "        text-align: right;\n",
       "    }\n",
       "</style>\n",
       "<table border=\"1\" class=\"dataframe\">\n",
       "  <thead>\n",
       "    <tr style=\"text-align: right;\">\n",
       "      <th></th>\n",
       "      <th>Month</th>\n",
       "      <th>Average Temperature</th>\n",
       "    </tr>\n",
       "  </thead>\n",
       "  <tbody>\n",
       "    <tr>\n",
       "      <th>0</th>\n",
       "      <td>1</td>\n",
       "      <td>30.970307</td>\n",
       "    </tr>\n",
       "  </tbody>\n",
       "</table>\n",
       "</div>"
      ],
      "text/plain": [
       "   Month  Average Temperature\n",
       "0      1            30.970307"
      ]
     },
     "execution_count": 6,
     "metadata": {},
     "output_type": "execute_result"
    }
   ],
   "source": [
    "calculate_monthly_average_temperature(\"/anvil/projects/tdm/data/noaa/1886.csv\")"
   ]
  },
  {
   "cell_type": "markdown",
   "id": "9fbf00fb-2418-460f-ae94-2a32b0c28952",
   "metadata": {},
   "source": [
    "Markdown notes and sentences and analysis written here."
   ]
  },
  {
   "cell_type": "markdown",
   "id": "f76442d6-d02e-4f26-b9d6-c3183e1d6929",
   "metadata": {},
   "source": [
    "## Pledge\n",
    "\n",
    "By submitting this work I hereby pledge that this is my own, personal work. I've acknowledged in the designated place at the top of this file all sources that I used to complete said work, including but not limited to: online resources, books, and electronic communications. I've noted all collaboration with fellow students and/or TA's. I did not copy or plagiarize another's work.\n",
    "\n",
    "> As a Boilermaker pursuing academic excellence, I pledge to be honest and true in all that I do. Accountable together – We are Purdue."
   ]
  }
 ],
 "metadata": {
  "kernelspec": {
   "display_name": "seminar",
   "language": "python",
   "name": "seminar"
  },
  "language_info": {
   "codemirror_mode": {
    "name": "ipython",
    "version": 3
   },
   "file_extension": ".py",
   "mimetype": "text/x-python",
   "name": "python",
   "nbconvert_exporter": "python",
   "pygments_lexer": "ipython3",
   "version": "3.11.5"
  }
 },
 "nbformat": 4,
 "nbformat_minor": 5
}
